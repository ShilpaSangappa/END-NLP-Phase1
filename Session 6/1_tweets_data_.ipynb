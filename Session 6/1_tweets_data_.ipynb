{
  "nbformat": 4,
  "nbformat_minor": 0,
  "metadata": {
    "colab": {
      "name": "1 - tweets data .ipynb",
      "provenance": [],
      "collapsed_sections": [],
      "toc_visible": true
    },
    "kernelspec": {
      "name": "python3",
      "display_name": "Python 3"
    },
    "accelerator": "GPU"
  },
  "cells": [
    {
      "cell_type": "code",
      "metadata": {
        "id": "a3IGAubfU6CD"
      },
      "source": [
        "### Using tweets.csv\n",
        "### Incorporated random swap, random deletion\n",
        "### Train Loss: 0.582 | Train Acc: 97.00%\n",
        "###\t Val. Loss: 0.640 |  Val. Acc: 91.56% "
      ],
      "execution_count": 1,
      "outputs": []
    },
    {
      "cell_type": "markdown",
      "metadata": {
        "id": "WwHQV6rHU7hT"
      },
      "source": [
        ""
      ]
    },
    {
      "cell_type": "markdown",
      "metadata": {
        "id": "GYiRsFGD6iUC"
      },
      "source": [
        "# 0 TorchText"
      ]
    },
    {
      "cell_type": "code",
      "metadata": {
        "colab": {
          "base_uri": "https://localhost:8080/"
        },
        "id": "F1MTMkZietqS",
        "outputId": "32b86112-9ec9-42be-99af-2b97ace6dca5"
      },
      "source": [
        "from google.colab import drive\n",
        "drive.mount('/content/drive')"
      ],
      "execution_count": null,
      "outputs": [
        {
          "output_type": "stream",
          "text": [
            "Mounted at /content/drive\n"
          ],
          "name": "stdout"
        }
      ]
    },
    {
      "cell_type": "markdown",
      "metadata": {
        "id": "tp5IzBGsPGHs"
      },
      "source": [
        "## Dataset Preview\n",
        "\n",
        "Your first step to deep learning in NLP. We will be mostly using PyTorch. Just like torchvision, PyTorch provides an official library, torchtext, for handling text-processing pipelines. \n",
        "\n",
        "We will be using previous session tweet dataset. Let's just preview the dataset."
      ]
    },
    {
      "cell_type": "code",
      "metadata": {
        "id": "o1-Yz-5RRFYc",
        "colab": {
          "base_uri": "https://localhost:8080/",
          "height": 224
        },
        "outputId": "4078a617-757c-44af-e067-eb32e0a98380"
      },
      "source": [
        "%cd '/content/drive/MyDrive/misc/END - NLP - Rohan Shravan/session 6'\n",
        "import pandas as pd\n",
        "\n",
        "import spacy\n",
        "nlp = spacy.load('en')\n",
        "df = pd.read_csv('tweets.csv')\n",
        "df.head()"
      ],
      "execution_count": null,
      "outputs": [
        {
          "output_type": "stream",
          "text": [
            "/content/drive/MyDrive/misc/END - NLP - Rohan Shravan/session 6\n"
          ],
          "name": "stdout"
        },
        {
          "output_type": "execute_result",
          "data": {
            "text/html": [
              "<div>\n",
              "<style scoped>\n",
              "    .dataframe tbody tr th:only-of-type {\n",
              "        vertical-align: middle;\n",
              "    }\n",
              "\n",
              "    .dataframe tbody tr th {\n",
              "        vertical-align: top;\n",
              "    }\n",
              "\n",
              "    .dataframe thead th {\n",
              "        text-align: right;\n",
              "    }\n",
              "</style>\n",
              "<table border=\"1\" class=\"dataframe\">\n",
              "  <thead>\n",
              "    <tr style=\"text-align: right;\">\n",
              "      <th></th>\n",
              "      <th>tweets</th>\n",
              "      <th>labels</th>\n",
              "    </tr>\n",
              "  </thead>\n",
              "  <tbody>\n",
              "    <tr>\n",
              "      <th>0</th>\n",
              "      <td>Obama has called the GOP budget social Darwini...</td>\n",
              "      <td>1</td>\n",
              "    </tr>\n",
              "    <tr>\n",
              "      <th>1</th>\n",
              "      <td>In his teen years, Obama has been known to use...</td>\n",
              "      <td>0</td>\n",
              "    </tr>\n",
              "    <tr>\n",
              "      <th>2</th>\n",
              "      <td>IPA Congratulates President Barack Obama for L...</td>\n",
              "      <td>0</td>\n",
              "    </tr>\n",
              "    <tr>\n",
              "      <th>3</th>\n",
              "      <td>RT @Professor_Why: #WhatsRomneyHiding - his co...</td>\n",
              "      <td>0</td>\n",
              "    </tr>\n",
              "    <tr>\n",
              "      <th>4</th>\n",
              "      <td>RT @wardollarshome: Obama has approved more ta...</td>\n",
              "      <td>1</td>\n",
              "    </tr>\n",
              "  </tbody>\n",
              "</table>\n",
              "</div>"
            ],
            "text/plain": [
              "                                              tweets  labels\n",
              "0  Obama has called the GOP budget social Darwini...       1\n",
              "1  In his teen years, Obama has been known to use...       0\n",
              "2  IPA Congratulates President Barack Obama for L...       0\n",
              "3  RT @Professor_Why: #WhatsRomneyHiding - his co...       0\n",
              "4  RT @wardollarshome: Obama has approved more ta...       1"
            ]
          },
          "metadata": {
            "tags": []
          },
          "execution_count": 1
        }
      ]
    },
    {
      "cell_type": "code",
      "metadata": {
        "id": "R7JdpCW-YbAG",
        "colab": {
          "base_uri": "https://localhost:8080/"
        },
        "outputId": "b61651db-9056-45bc-86fb-0f07143faf82"
      },
      "source": [
        "df.shape"
      ],
      "execution_count": null,
      "outputs": [
        {
          "output_type": "execute_result",
          "data": {
            "text/plain": [
              "(1364, 2)"
            ]
          },
          "metadata": {
            "tags": []
          },
          "execution_count": 2
        }
      ]
    },
    {
      "cell_type": "code",
      "metadata": {
        "id": "zqRsoF6xYdgl",
        "colab": {
          "base_uri": "https://localhost:8080/"
        },
        "outputId": "46a4473b-dfae-4637-fb10-b5406804f4c5"
      },
      "source": [
        "df.labels.value_counts()"
      ],
      "execution_count": null,
      "outputs": [
        {
          "output_type": "execute_result",
          "data": {
            "text/plain": [
              "0    931\n",
              "1    352\n",
              "2     81\n",
              "Name: labels, dtype: int64"
            ]
          },
          "metadata": {
            "tags": []
          },
          "execution_count": 3
        }
      ]
    },
    {
      "cell_type": "markdown",
      "metadata": {
        "id": "zOIbi5WzO5OU"
      },
      "source": [
        "### Random Swap\n",
        "The random swap augmentation takes a sentence and then swaps words within it n times, with each iteration working on the previously swapped sentence. Here we sample two random numbers based on the length of the sentence, and then just keep swapping until we hit n."
      ]
    },
    {
      "cell_type": "code",
      "metadata": {
        "id": "LnkbG15HO3Yj"
      },
      "source": [
        "import random\n",
        "\n",
        "def random_swap(sentence, n=5):\n",
        "    #snt_lst = sentence.split(' ')\n",
        "    sent_nlp = nlp(sentence)\n",
        "    snt_lst = [i for i in sent_nlp]\n",
        "    if len(snt_lst) <=1:\n",
        "      return None\n",
        "    for _ in range(n):\n",
        "        idx1, idx2 = random.sample(range(len(snt_lst)), 2)        \n",
        "        snt_lst[idx1], snt_lst[idx2] = snt_lst[idx2], snt_lst[idx1] \n",
        "    #sentence = ' '.join(snt_lst)\n",
        "    sentence = ' '.join([str(i) for i in snt_lst])\n",
        "    return sentence"
      ],
      "execution_count": null,
      "outputs": []
    },
    {
      "cell_type": "code",
      "metadata": {
        "id": "JntfIbBApG1e"
      },
      "source": [
        "#df_augment_random_swap = pd.DataFrame(columns = df.columns)\n",
        "row_lst = []\n",
        "for index, row in df.iterrows():\n",
        "    tweet = row['tweets']\n",
        "    swapped_tweet = random_swap(tweet)\n",
        "    if swapped_tweet is None:\n",
        "      continue\n",
        "    #df_augment_random_swap.append({'tweets':swapped_tweet, 'labels':row['labels']},ignore_index=True)\n",
        "    row_lst.append({'tweets':swapped_tweet, 'labels':row['labels']})\n",
        "\n",
        "df_augment_random_swap = pd.DataFrame(row_lst)"
      ],
      "execution_count": null,
      "outputs": []
    },
    {
      "cell_type": "code",
      "metadata": {
        "colab": {
          "base_uri": "https://localhost:8080/",
          "height": 206
        },
        "id": "A6Y-Ahxs8b6u",
        "outputId": "c02112f3-7043-4420-ba57-b9a49029853a"
      },
      "source": [
        "df_augment_random_swap.head()\n"
      ],
      "execution_count": null,
      "outputs": [
        {
          "output_type": "execute_result",
          "data": {
            "text/html": [
              "<div>\n",
              "<style scoped>\n",
              "    .dataframe tbody tr th:only-of-type {\n",
              "        vertical-align: middle;\n",
              "    }\n",
              "\n",
              "    .dataframe tbody tr th {\n",
              "        vertical-align: top;\n",
              "    }\n",
              "\n",
              "    .dataframe thead th {\n",
              "        text-align: right;\n",
              "    }\n",
              "</style>\n",
              "<table border=\"1\" class=\"dataframe\">\n",
              "  <thead>\n",
              "    <tr style=\"text-align: right;\">\n",
              "      <th></th>\n",
              "      <th>tweets</th>\n",
              "      <th>labels</th>\n",
              "    </tr>\n",
              "  </thead>\n",
              "  <tbody>\n",
              "    <tr>\n",
              "      <th>0</th>\n",
              "      <td>Obama has called creationism GOP budget social...</td>\n",
              "      <td>1</td>\n",
              "    </tr>\n",
              "    <tr>\n",
              "      <th>1</th>\n",
              "      <td>, and teen In years his has cocaine known to u...</td>\n",
              "      <td>0</td>\n",
              "    </tr>\n",
              "    <tr>\n",
              "      <th>2</th>\n",
              "      <td>IPA Congratulates http://t.co/8le3DC8E Barack ...</td>\n",
              "      <td>0</td>\n",
              "    </tr>\n",
              "    <tr>\n",
              "      <th>3</th>\n",
              "      <td>was @Professor_Why : # WhatsRomneyHiding - , t...</td>\n",
              "      <td>0</td>\n",
              "    </tr>\n",
              "    <tr>\n",
              "      <th>4</th>\n",
              "      <td>RT @wardollarshome : ; than approved more targ...</td>\n",
              "      <td>1</td>\n",
              "    </tr>\n",
              "  </tbody>\n",
              "</table>\n",
              "</div>"
            ],
            "text/plain": [
              "                                              tweets  labels\n",
              "0  Obama has called creationism GOP budget social...       1\n",
              "1  , and teen In years his has cocaine known to u...       0\n",
              "2  IPA Congratulates http://t.co/8le3DC8E Barack ...       0\n",
              "3  was @Professor_Why : # WhatsRomneyHiding - , t...       0\n",
              "4  RT @wardollarshome : ; than approved more targ...       1"
            ]
          },
          "metadata": {
            "tags": []
          },
          "execution_count": 6
        }
      ]
    },
    {
      "cell_type": "markdown",
      "metadata": {
        "id": "gqLWzwJ3Mm8h"
      },
      "source": [
        "## Random Deletion\n",
        "As the name suggests, random deletion deletes words from a sentence. Given a probability parameter p, it will go through the sentence and decide whether to delete a word or not based on that random probability. Consider of it as pixel dropouts while treating images."
      ]
    },
    {
      "cell_type": "code",
      "metadata": {
        "id": "-7Dz7JJfMqyC"
      },
      "source": [
        "def random_deletion(words, p=0.5): \n",
        "    if len(words) == 1: # return if single word\n",
        "        return words\n",
        "    remaining = list(filter(lambda x: random.uniform(0,1) > p,words)) \n",
        "    if len(remaining) == 0: # if not left, sample a random word\n",
        "        return [random.choice(words)] \n",
        "    else:\n",
        "        return remaining"
      ],
      "execution_count": null,
      "outputs": []
    },
    {
      "cell_type": "code",
      "metadata": {
        "id": "PHEv7Ecsx3OZ"
      },
      "source": [
        "#df_augment_random_swap = pd.DataFrame(columns = df.columns)\n",
        "row_lst = []\n",
        "for index, row in df.iterrows():\n",
        "    tweet = row['tweets']\n",
        "    sent_nlp = nlp(tweet)\n",
        "    snt_lst = [i for i in sent_nlp]    \n",
        "    deleted_tweet = random_deletion(snt_lst)\n",
        "    if deleted_tweet is None:\n",
        "      continue\n",
        "    sentence = ' '.join([str(i) for i in deleted_tweet])\n",
        "    #df_augment_random_swap.append({'tweets':swapped_tweet, 'labels':row['labels']},ignore_index=True)\n",
        "    row_lst.append({'tweets':sentence, 'labels':row['labels']})\n",
        "\n",
        "df_augment_random_delete = pd.DataFrame(row_lst)"
      ],
      "execution_count": null,
      "outputs": []
    },
    {
      "cell_type": "code",
      "metadata": {
        "colab": {
          "base_uri": "https://localhost:8080/",
          "height": 206
        },
        "id": "G3-v1yfu3oR6",
        "outputId": "aca13bc8-44c1-4791-f10e-e7ddf3ea9296"
      },
      "source": [
        "df_augment_random_delete.head()"
      ],
      "execution_count": null,
      "outputs": [
        {
          "output_type": "execute_result",
          "data": {
            "text/html": [
              "<div>\n",
              "<style scoped>\n",
              "    .dataframe tbody tr th:only-of-type {\n",
              "        vertical-align: middle;\n",
              "    }\n",
              "\n",
              "    .dataframe tbody tr th {\n",
              "        vertical-align: top;\n",
              "    }\n",
              "\n",
              "    .dataframe thead th {\n",
              "        text-align: right;\n",
              "    }\n",
              "</style>\n",
              "<table border=\"1\" class=\"dataframe\">\n",
              "  <thead>\n",
              "    <tr style=\"text-align: right;\">\n",
              "      <th></th>\n",
              "      <th>tweets</th>\n",
              "      <th>labels</th>\n",
              "    </tr>\n",
              "  </thead>\n",
              "  <tbody>\n",
              "    <tr>\n",
              "      <th>0</th>\n",
              "      <td>Obama has budget Darwinism Nice but creationism</td>\n",
              "      <td>1</td>\n",
              "    </tr>\n",
              "    <tr>\n",
              "      <th>1</th>\n",
              "      <td>In his teen , Obama been use marijuana and .</td>\n",
              "      <td>0</td>\n",
              "    </tr>\n",
              "    <tr>\n",
              "      <th>2</th>\n",
              "      <td>President Barack for Leadership Regarding JOBS...</td>\n",
              "      <td>0</td>\n",
              "    </tr>\n",
              "    <tr>\n",
              "      <th>3</th>\n",
              "      <td>RT @Professor_Why # WhatsRomneyHiding to of Cr...</td>\n",
              "      <td>0</td>\n",
              "    </tr>\n",
              "    <tr>\n",
              "      <th>4</th>\n",
              "      <td>: Obama approved more assassinations than any ...</td>\n",
              "      <td>1</td>\n",
              "    </tr>\n",
              "  </tbody>\n",
              "</table>\n",
              "</div>"
            ],
            "text/plain": [
              "                                              tweets  labels\n",
              "0    Obama has budget Darwinism Nice but creationism       1\n",
              "1       In his teen , Obama been use marijuana and .       0\n",
              "2  President Barack for Leadership Regarding JOBS...       0\n",
              "3  RT @Professor_Why # WhatsRomneyHiding to of Cr...       0\n",
              "4  : Obama approved more assassinations than any ...       1"
            ]
          },
          "metadata": {
            "tags": []
          },
          "execution_count": 9
        }
      ]
    },
    {
      "cell_type": "markdown",
      "metadata": {
        "id": "a5aeKuNCRGip"
      },
      "source": [
        "### Back Translation\n",
        "\n",
        "Another popular approach for augmenting text datasets is back translation. This involves translating a sentence from our target language into one or more other languages and then translating all of them back to the original language. We can use the Python library googletrans for this purpose. "
      ]
    },
    {
      "cell_type": "code",
      "metadata": {
        "colab": {
          "base_uri": "https://localhost:8080/"
        },
        "id": "JL7p7oeA28Rk",
        "outputId": "8da314df-f930-416e-e623-059e619cce2a"
      },
      "source": [
        "!pip install google_trans_new"
      ],
      "execution_count": null,
      "outputs": [
        {
          "output_type": "stream",
          "text": [
            "Requirement already satisfied: google_trans_new in /usr/local/lib/python3.6/dist-packages (1.1.9)\n"
          ],
          "name": "stdout"
        }
      ]
    },
    {
      "cell_type": "code",
      "metadata": {
        "id": "pHhNBbYrRXNy"
      },
      "source": [
        "import random\n",
        "import google_trans_new\n",
        "from google_trans_new import google_translator\n",
        "\n",
        "translator = google_translator()"
      ],
      "execution_count": null,
      "outputs": []
    },
    {
      "cell_type": "code",
      "metadata": {
        "colab": {
          "base_uri": "https://localhost:8080/"
        },
        "id": "mTHVbNut_FYb",
        "outputId": "f989d6e2-a0f7-49cf-e65e-4859d600026b"
      },
      "source": [
        "help(translator.translate)"
      ],
      "execution_count": null,
      "outputs": [
        {
          "output_type": "stream",
          "text": [
            "Help on method translate in module google_trans_new.google_trans_new:\n",
            "\n",
            "translate(text, lang_tgt='auto', lang_src='auto', pronounce=False) method of google_trans_new.google_trans_new.google_translator instance\n",
            "\n"
          ],
          "name": "stdout"
        }
      ]
    },
    {
      "cell_type": "markdown",
      "metadata": {
        "id": "599NpwfMR5Vm"
      },
      "source": [
        "For more on this please go through this [paper](https://arxiv.org/pdf/1901.11196.pdf)."
      ]
    },
    {
      "cell_type": "code",
      "metadata": {
        "colab": {
          "base_uri": "https://localhost:8080/"
        },
        "id": "8MKOJoecoZGt",
        "outputId": "559d4ccf-00b9-4d1b-cde7-f9bca4e55452"
      },
      "source": [
        "row_lst = []\n",
        "\n",
        "for index, row in df.iterrows():\n",
        "    sentence = row['tweets']\n",
        "\n",
        "    available_langs = list(google_trans_new.LANGUAGES.keys()) \n",
        "    trans_lang = random.choice(available_langs) \n",
        "    print(f\"Translating to {google_trans_new.LANGUAGES[trans_lang]}\")\n",
        "\n",
        "    translations = translator.translate(sentence, lang_tgt=trans_lang) \n",
        "    t_text = [t for t in translations]\n",
        "\n",
        "    translations_en_random = translator.translate(t_text, lang_src=trans_lang, lang_tgt='en')\n",
        "    import pdb;pdb.set_trace()\n",
        "    en_text = [t for t in translations_en_random]\n",
        "    \n",
        "    row_lst.append({'tweets':en_text, 'labels':row['labels']})\n",
        "\n",
        "df_augment_back_translate = pd.DataFrame(row_lst)"
      ],
      "execution_count": null,
      "outputs": [
        {
          "output_type": "stream",
          "text": [
            "Translating to punjabi\n",
            "> <ipython-input-16-8ef89d77d7ce>(15)<module>()\n",
            "-> en_text = [t for t in translations_en_random]\n",
            "(Pdb) translations_en_random\n",
            "\"['O', 'B', 'A', 'M', 'A', '', 'N', 'E', '', 'J', 'I', 'O', 'P' , 'E', '', 'b', 'j', 't', '', 'n', 'u', 'n', '', 's', 'm', 'a', 'J', 'i', 'k', '', 'd', 'a', 'r', 'w', 'i', 'n', 'w', 'a', 'd' , '', 'क', 'ि', 'ह', 'आ', '', 'ह', 'ऐ', '.', '', 'व', 'ध', 'ई', 'Aa', '', 'K', 'O', 'S', 'Sh', 'I', 'S', 'Sh', '', 'K', 'R', 'O', ',', '', 'P', 'r', '', 'u', 'h', '', 's',' m ',' a ',' j ',' i ',' ਕ ',' ',' ਰ ',' ਚ ',' ਨ ',' ਆ ',' ਵ ',' ਆ ',' ਦ ',' ',' ਵ ',' ਿ ',' ੱ ',' '', '', ',', ',', ',', ',', ',', ',', ',', ',', ',', ',', ',', ',' E ',' ',' ha ',' n ','. ',' '] \"\n",
            "(Pdb) n\n",
            "> <ipython-input-16-8ef89d77d7ce>(17)<module>()\n",
            "-> row_lst.append({'tweets':en_text, 'labels':row['labels']})\n",
            "(Pdb) en_text\n",
            "['[', \"'\", 'O', \"'\", ',', ' ', \"'\", 'B', \"'\", ',', ' ', \"'\", 'A', \"'\", ',', ' ', \"'\", 'M', \"'\", ',', ' ', \"'\", 'A', \"'\", ',', ' ', \"'\", \"'\", ',', ' ', \"'\", 'N', \"'\", ',', ' ', \"'\", 'E', \"'\", ',', ' ', \"'\", \"'\", ',', ' ', \"'\", 'J', \"'\", ',', ' ', \"'\", 'I', \"'\", ',', ' ', \"'\", 'O', \"'\", ',', ' ', \"'\", 'P', \"'\", ' ', ',', ' ', \"'\", 'E', \"'\", ',', ' ', \"'\", \"'\", ',', ' ', \"'\", 'b', \"'\", ',', ' ', \"'\", 'j', \"'\", ',', ' ', \"'\", 't', \"'\", ',', ' ', \"'\", \"'\", ',', ' ', \"'\", 'n', \"'\", ',', ' ', \"'\", 'u', \"'\", ',', ' ', \"'\", 'n', \"'\", ',', ' ', \"'\", \"'\", ',', ' ', \"'\", 's', \"'\", ',', ' ', \"'\", 'm', \"'\", ',', ' ', \"'\", 'a', \"'\", ',', ' ', \"'\", 'J', \"'\", ',', ' ', \"'\", 'i', \"'\", ',', ' ', \"'\", 'k', \"'\", ',', ' ', \"'\", \"'\", ',', ' ', \"'\", 'd', \"'\", ',', ' ', \"'\", 'a', \"'\", ',', ' ', \"'\", 'r', \"'\", ',', ' ', \"'\", 'w', \"'\", ',', ' ', \"'\", 'i', \"'\", ',', ' ', \"'\", 'n', \"'\", ',', ' ', \"'\", 'w', \"'\", ',', ' ', \"'\", 'a', \"'\", ',', ' ', \"'\", 'd', \"'\", ' ', ',', ' ', \"'\", \"'\", ',', ' ', \"'\", 'क', \"'\", ',', ' ', \"'\", 'ि', \"'\", ',', ' ', \"'\", 'ह', \"'\", ',', ' ', \"'\", 'आ', \"'\", ',', ' ', \"'\", \"'\", ',', ' ', \"'\", 'ह', \"'\", ',', ' ', \"'\", 'ऐ', \"'\", ',', ' ', \"'\", '.', \"'\", ',', ' ', \"'\", \"'\", ',', ' ', \"'\", 'व', \"'\", ',', ' ', \"'\", 'ध', \"'\", ',', ' ', \"'\", 'ई', \"'\", ',', ' ', \"'\", 'A', 'a', \"'\", ',', ' ', \"'\", \"'\", ',', ' ', \"'\", 'K', \"'\", ',', ' ', \"'\", 'O', \"'\", ',', ' ', \"'\", 'S', \"'\", ',', ' ', \"'\", 'S', 'h', \"'\", ',', ' ', \"'\", 'I', \"'\", ',', ' ', \"'\", 'S', \"'\", ',', ' ', \"'\", 'S', 'h', \"'\", ',', ' ', \"'\", \"'\", ',', ' ', \"'\", 'K', \"'\", ',', ' ', \"'\", 'R', \"'\", ',', ' ', \"'\", 'O', \"'\", ',', ' ', \"'\", ',', \"'\", ',', ' ', \"'\", \"'\", ',', ' ', \"'\", 'P', \"'\", ',', ' ', \"'\", 'r', \"'\", ',', ' ', \"'\", \"'\", ',', ' ', \"'\", 'u', \"'\", ',', ' ', \"'\", 'h', \"'\", ',', ' ', \"'\", \"'\", ',', ' ', \"'\", 's', \"'\", ',', \"'\", ' ', 'm', ' ', \"'\", ',', \"'\", ' ', 'a', ' ', \"'\", ',', \"'\", ' ', 'j', ' ', \"'\", ',', \"'\", ' ', 'i', ' ', \"'\", ',', \"'\", ' ', 'ਕ', ' ', \"'\", ',', \"'\", ' ', \"'\", ',', \"'\", ' ', 'ਰ', ' ', \"'\", ',', \"'\", ' ', 'ਚ', ' ', \"'\", ',', \"'\", ' ', 'ਨ', ' ', \"'\", ',', \"'\", ' ', 'ਆ', ' ', \"'\", ',', \"'\", ' ', 'ਵ', ' ', \"'\", ',', \"'\", ' ', 'ਆ', ' ', \"'\", ',', \"'\", ' ', 'ਦ', ' ', \"'\", ',', \"'\", ' ', \"'\", ',', \"'\", ' ', 'ਵ', ' ', \"'\", ',', \"'\", ' ', 'ਿ', ' ', \"'\", ',', \"'\", ' ', 'ੱ', ' ', \"'\", ',', \"'\", ' ', \"'\", \"'\", ',', ' ', \"'\", \"'\", ',', ' ', \"'\", ',', \"'\", ',', ' ', \"'\", ',', \"'\", ',', ' ', \"'\", ',', \"'\", ',', ' ', \"'\", ',', \"'\", ',', ' ', \"'\", ',', \"'\", ',', ' ', \"'\", ',', \"'\", ',', ' ', \"'\", ',', \"'\", ',', ' ', \"'\", ',', \"'\", ',', ' ', \"'\", ',', \"'\", ',', ' ', \"'\", ',', \"'\", ',', ' ', \"'\", ',', \"'\", ',', ' ', \"'\", ',', \"'\", ' ', 'E', ' ', \"'\", ',', \"'\", ' ', \"'\", ',', \"'\", ' ', 'h', 'a', ' ', \"'\", ',', \"'\", ' ', 'n', ' ', \"'\", ',', \"'\", '.', ' ', \"'\", ',', \"'\", ' ', \"'\", ']', ' ']\n",
            "(Pdb) ''.join(translations_en_random)\n",
            "\"['O', 'B', 'A', 'M', 'A', '', 'N', 'E', '', 'J', 'I', 'O', 'P' , 'E', '', 'b', 'j', 't', '', 'n', 'u', 'n', '', 's', 'm', 'a', 'J', 'i', 'k', '', 'd', 'a', 'r', 'w', 'i', 'n', 'w', 'a', 'd' , '', 'क', 'ि', 'ह', 'आ', '', 'ह', 'ऐ', '.', '', 'व', 'ध', 'ई', 'Aa', '', 'K', 'O', 'S', 'Sh', 'I', 'S', 'Sh', '', 'K', 'R', 'O', ',', '', 'P', 'r', '', 'u', 'h', '', 's',' m ',' a ',' j ',' i ',' ਕ ',' ',' ਰ ',' ਚ ',' ਨ ',' ਆ ',' ਵ ',' ਆ ',' ਦ ',' ',' ਵ ',' ਿ ',' ੱ ',' '', '', ',', ',', ',', ',', ',', ',', ',', ',', ',', ',', ',', ',' E ',' ',' ha ',' n ','. ',' '] \"\n",
            "--KeyboardInterrupt--\n"
          ],
          "name": "stdout"
        }
      ]
    },
    {
      "cell_type": "code",
      "metadata": {
        "id": "5wDsraGMBWSY"
      },
      "source": [
        "''.join(row_lst[4])"
      ],
      "execution_count": null,
      "outputs": []
    },
    {
      "cell_type": "code",
      "metadata": {
        "colab": {
          "base_uri": "https://localhost:8080/",
          "height": 424
        },
        "id": "lk6RMYUg9HqH",
        "outputId": "0722650a-c833-4ee7-ea7a-4c86c72ebd9c"
      },
      "source": [
        "df.append(df_augment_random_delete, ignore_index=True)\n",
        "df.append(df_augment_random_swap, ignore_index=True)\n",
        "#df.append(df_augment_back_translate, ignore_index=True)"
      ],
      "execution_count": null,
      "outputs": [
        {
          "output_type": "execute_result",
          "data": {
            "text/html": [
              "<div>\n",
              "<style scoped>\n",
              "    .dataframe tbody tr th:only-of-type {\n",
              "        vertical-align: middle;\n",
              "    }\n",
              "\n",
              "    .dataframe tbody tr th {\n",
              "        vertical-align: top;\n",
              "    }\n",
              "\n",
              "    .dataframe thead th {\n",
              "        text-align: right;\n",
              "    }\n",
              "</style>\n",
              "<table border=\"1\" class=\"dataframe\">\n",
              "  <thead>\n",
              "    <tr style=\"text-align: right;\">\n",
              "      <th></th>\n",
              "      <th>tweets</th>\n",
              "      <th>labels</th>\n",
              "    </tr>\n",
              "  </thead>\n",
              "  <tbody>\n",
              "    <tr>\n",
              "      <th>0</th>\n",
              "      <td>Obama has called the GOP budget social Darwini...</td>\n",
              "      <td>1</td>\n",
              "    </tr>\n",
              "    <tr>\n",
              "      <th>1</th>\n",
              "      <td>In his teen years, Obama has been known to use...</td>\n",
              "      <td>0</td>\n",
              "    </tr>\n",
              "    <tr>\n",
              "      <th>2</th>\n",
              "      <td>IPA Congratulates President Barack Obama for L...</td>\n",
              "      <td>0</td>\n",
              "    </tr>\n",
              "    <tr>\n",
              "      <th>3</th>\n",
              "      <td>RT @Professor_Why: #WhatsRomneyHiding - his co...</td>\n",
              "      <td>0</td>\n",
              "    </tr>\n",
              "    <tr>\n",
              "      <th>4</th>\n",
              "      <td>RT @wardollarshome: Obama has approved more ta...</td>\n",
              "      <td>1</td>\n",
              "    </tr>\n",
              "    <tr>\n",
              "      <th>...</th>\n",
              "      <td>...</td>\n",
              "      <td>...</td>\n",
              "    </tr>\n",
              "    <tr>\n",
              "      <th>2719</th>\n",
              "      <td>@liberalminds Its fun trending .. Hashtag are ...</td>\n",
              "      <td>0</td>\n",
              "    </tr>\n",
              "    <tr>\n",
              "      <th>2720</th>\n",
              "      <td>RT @AstoldByBass # : KimKardashiansNextBoyfrie...</td>\n",
              "      <td>0</td>\n",
              "    </tr>\n",
              "    <tr>\n",
              "      <th>2721</th>\n",
              "      <td>he @GatorNation41 : gas http://t.co/TlfMmi0 .....</td>\n",
              "      <td>1</td>\n",
              "    </tr>\n",
              "    <tr>\n",
              "      <th>2722</th>\n",
              "      <td>@xShwag haha i know i m just so smart , and me...</td>\n",
              "      <td>1</td>\n",
              "    </tr>\n",
              "    <tr>\n",
              "      <th>2723</th>\n",
              "      <td>TRAINING :   DICTATOR IN ! . # If he this th...</td>\n",
              "      <td>0</td>\n",
              "    </tr>\n",
              "  </tbody>\n",
              "</table>\n",
              "<p>2724 rows × 2 columns</p>\n",
              "</div>"
            ],
            "text/plain": [
              "                                                 tweets  labels\n",
              "0     Obama has called the GOP budget social Darwini...       1\n",
              "1     In his teen years, Obama has been known to use...       0\n",
              "2     IPA Congratulates President Barack Obama for L...       0\n",
              "3     RT @Professor_Why: #WhatsRomneyHiding - his co...       0\n",
              "4     RT @wardollarshome: Obama has approved more ta...       1\n",
              "...                                                 ...     ...\n",
              "2719  @liberalminds Its fun trending .. Hashtag are ...       0\n",
              "2720  RT @AstoldByBass # : KimKardashiansNextBoyfrie...       0\n",
              "2721  he @GatorNation41 : gas http://t.co/TlfMmi0 .....       1\n",
              "2722  @xShwag haha i know i m just so smart , and me...       1\n",
              "2723    TRAINING :   DICTATOR IN ! . # If he this th...       0\n",
              "\n",
              "[2724 rows x 2 columns]"
            ]
          },
          "metadata": {
            "tags": []
          },
          "execution_count": 11
        }
      ]
    },
    {
      "cell_type": "code",
      "metadata": {
        "id": "qtmkI8oOHOro"
      },
      "source": [
        "df = df.append(df_augment_random_delete, ignore_index=True)\n",
        "df = df.append(df_augment_random_swap, ignore_index=True)\n",
        "#df.append(df_augment_back_translate, ignore_index=True)"
      ],
      "execution_count": null,
      "outputs": []
    },
    {
      "cell_type": "code",
      "metadata": {
        "colab": {
          "base_uri": "https://localhost:8080/"
        },
        "id": "d3d1v5q1Akk9",
        "outputId": "82278340-aa4e-4dbd-a841-47cd26a19206"
      },
      "source": [
        "df.shape, df_augment_random_delete.shape, df_augment_random_swap.shape"
      ],
      "execution_count": null,
      "outputs": [
        {
          "output_type": "execute_result",
          "data": {
            "text/plain": [
              "((4088, 2), (1364, 2), (1360, 2))"
            ]
          },
          "metadata": {
            "tags": []
          },
          "execution_count": 17
        }
      ]
    },
    {
      "cell_type": "code",
      "metadata": {
        "colab": {
          "base_uri": "https://localhost:8080/",
          "height": 206
        },
        "id": "yyjIIJgKG_WR",
        "outputId": "4c3828dd-22fc-426f-d896-5e38cebbe311"
      },
      "source": [
        "df.tail()"
      ],
      "execution_count": null,
      "outputs": [
        {
          "output_type": "execute_result",
          "data": {
            "text/html": [
              "<div>\n",
              "<style scoped>\n",
              "    .dataframe tbody tr th:only-of-type {\n",
              "        vertical-align: middle;\n",
              "    }\n",
              "\n",
              "    .dataframe tbody tr th {\n",
              "        vertical-align: top;\n",
              "    }\n",
              "\n",
              "    .dataframe thead th {\n",
              "        text-align: right;\n",
              "    }\n",
              "</style>\n",
              "<table border=\"1\" class=\"dataframe\">\n",
              "  <thead>\n",
              "    <tr style=\"text-align: right;\">\n",
              "      <th></th>\n",
              "      <th>tweets</th>\n",
              "      <th>labels</th>\n",
              "    </tr>\n",
              "  </thead>\n",
              "  <tbody>\n",
              "    <tr>\n",
              "      <th>4083</th>\n",
              "      <td>@liberalminds Its fun trending .. Hashtag are ...</td>\n",
              "      <td>0</td>\n",
              "    </tr>\n",
              "    <tr>\n",
              "      <th>4084</th>\n",
              "      <td>RT @AstoldByBass # : KimKardashiansNextBoyfrie...</td>\n",
              "      <td>0</td>\n",
              "    </tr>\n",
              "    <tr>\n",
              "      <th>4085</th>\n",
              "      <td>he @GatorNation41 : gas http://t.co/TlfMmi0 .....</td>\n",
              "      <td>1</td>\n",
              "    </tr>\n",
              "    <tr>\n",
              "      <th>4086</th>\n",
              "      <td>@xShwag haha i know i m just so smart , and me...</td>\n",
              "      <td>1</td>\n",
              "    </tr>\n",
              "    <tr>\n",
              "      <th>4087</th>\n",
              "      <td>TRAINING :   DICTATOR IN ! . # If he this th...</td>\n",
              "      <td>0</td>\n",
              "    </tr>\n",
              "  </tbody>\n",
              "</table>\n",
              "</div>"
            ],
            "text/plain": [
              "                                                 tweets  labels\n",
              "4083  @liberalminds Its fun trending .. Hashtag are ...       0\n",
              "4084  RT @AstoldByBass # : KimKardashiansNextBoyfrie...       0\n",
              "4085  he @GatorNation41 : gas http://t.co/TlfMmi0 .....       1\n",
              "4086  @xShwag haha i know i m just so smart , and me...       1\n",
              "4087    TRAINING :   DICTATOR IN ! . # If he this th...       0"
            ]
          },
          "metadata": {
            "tags": []
          },
          "execution_count": 18
        }
      ]
    },
    {
      "cell_type": "markdown",
      "metadata": {
        "id": "XJ6o_79ISSVb"
      },
      "source": [
        "## Defining Fields"
      ]
    },
    {
      "cell_type": "markdown",
      "metadata": {
        "id": "e63g08ijOrf7"
      },
      "source": [
        "Now we shall be defining LABEL as a LabelField, which is a subclass of Field that sets sequen tial to False (as it’s our numerical category class). TWEET is a standard Field object, where we have decided to use the spaCy tokenizer and convert all the text to lower‐ case."
      ]
    },
    {
      "cell_type": "code",
      "metadata": {
        "id": "qk8IP4SK1Lrp",
        "colab": {
          "base_uri": "https://localhost:8080/"
        },
        "outputId": "0fa96481-9819-49c5-f22b-caeb313c4b35"
      },
      "source": [
        "# Import Library\n",
        "import random\n",
        "import torch, torchtext\n",
        "from torchtext import data \n",
        "\n",
        "# Manual Seed\n",
        "SEED = 43\n",
        "torch.manual_seed(SEED)"
      ],
      "execution_count": null,
      "outputs": [
        {
          "output_type": "execute_result",
          "data": {
            "text/plain": [
              "<torch._C.Generator at 0x7f96a7a3a768>"
            ]
          },
          "metadata": {
            "tags": []
          },
          "execution_count": 19
        }
      ]
    },
    {
      "cell_type": "code",
      "metadata": {
        "id": "u6bKQax2Mf_U"
      },
      "source": [
        "Tweet = data.Field(sequential = True, tokenize = 'spacy', batch_first =True, include_lengths=True)\n",
        "Label = data.LabelField(tokenize ='spacy', is_target=True, batch_first =True, sequential =False)"
      ],
      "execution_count": null,
      "outputs": []
    },
    {
      "cell_type": "markdown",
      "metadata": {
        "id": "mX-lYIe_O7Vy"
      },
      "source": [
        "Having defined those fields, we now need to produce a list that maps them onto the list of rows that are in the CSV:"
      ]
    },
    {
      "cell_type": "code",
      "metadata": {
        "id": "VawdWq36O6td"
      },
      "source": [
        "fields = [('tweets', Tweet),('labels',Label)]"
      ],
      "execution_count": null,
      "outputs": []
    },
    {
      "cell_type": "markdown",
      "metadata": {
        "id": "ZbtZ-Ph2P1xL"
      },
      "source": [
        "Armed with our declared fields, lets convert from pandas to list to torchtext. We could also use TabularDataset to apply that definition to the CSV directly but showing an alternative approach too."
      ]
    },
    {
      "cell_type": "code",
      "metadata": {
        "id": "L3OLcJ5B7rHz"
      },
      "source": [
        "example = [data.Example.fromlist([df.tweets[i],df.labels[i]], fields) for i in range(df.shape[0])] "
      ],
      "execution_count": null,
      "outputs": []
    },
    {
      "cell_type": "code",
      "metadata": {
        "id": "nT-flpH-P1cd"
      },
      "source": [
        "# Creating dataset\n",
        "#twitterDataset = data.TabularDataset(path=\"tweets.csv\", format=\"CSV\", fields=fields, skip_header=True)\n",
        "\n",
        "twitterDataset = data.Dataset(example, fields)"
      ],
      "execution_count": null,
      "outputs": []
    },
    {
      "cell_type": "markdown",
      "metadata": {
        "id": "g6ZnyCPaR08F"
      },
      "source": [
        "Finally, we can split into training, testing, and validation sets by using the split() method:"
      ]
    },
    {
      "cell_type": "code",
      "metadata": {
        "id": "uPYXyuKhRpBk"
      },
      "source": [
        "(train, valid) = twitterDataset.split(split_ratio=[0.85, 0.15], random_state=random.seed(SEED))"
      ],
      "execution_count": null,
      "outputs": []
    },
    {
      "cell_type": "code",
      "metadata": {
        "id": "ykvsCGQMR6UD",
        "colab": {
          "base_uri": "https://localhost:8080/"
        },
        "outputId": "27516acc-a68a-4605-a971-98fb0a8837ba"
      },
      "source": [
        "(len(train), len(valid))"
      ],
      "execution_count": null,
      "outputs": [
        {
          "output_type": "execute_result",
          "data": {
            "text/plain": [
              "(3475, 613)"
            ]
          },
          "metadata": {
            "tags": []
          },
          "execution_count": 25
        }
      ]
    },
    {
      "cell_type": "markdown",
      "metadata": {
        "id": "kix8P2IKSBaV"
      },
      "source": [
        "An example from the dataset:"
      ]
    },
    {
      "cell_type": "code",
      "metadata": {
        "id": "dUpEOQruR9JL",
        "colab": {
          "base_uri": "https://localhost:8080/"
        },
        "outputId": "892c3307-3eff-4d2a-daf2-aaf0dd57fd64"
      },
      "source": [
        "vars(train.examples[10])"
      ],
      "execution_count": null,
      "outputs": [
        {
          "output_type": "execute_result",
          "data": {
            "text/plain": [
              "{'labels': 0,\n",
              " 'tweets': ['RT',\n",
              "  '?',\n",
              "  'ill',\n",
              "  'dm',\n",
              "  'it',\n",
              "  'to',\n",
              "  'you',\n",
              "  '.',\n",
              "  'Do',\n",
              "  'nt',\n",
              "  'share',\n",
              "  'it',\n",
              "  'tho',\n",
              "  'Obama',\n",
              "  '(',\n",
              "  ':',\n",
              "  '@DJECOOL',\n",
              "  'Hey',\n",
              "  '@Tiwaworks',\n",
              "  'yea',\n",
              "  'get',\n",
              "  ')',\n",
              "  'Pin',\n",
              "  'u',\n",
              "  'Thanks',\n",
              "  'bro',\n",
              "  '!']}"
            ]
          },
          "metadata": {
            "tags": []
          },
          "execution_count": 26
        }
      ]
    },
    {
      "cell_type": "markdown",
      "metadata": {
        "id": "AKdllP3FST4N"
      },
      "source": [
        "## Building Vocabulary"
      ]
    },
    {
      "cell_type": "markdown",
      "metadata": {
        "id": "SuvWQ-SpSmSz"
      },
      "source": [
        "At this point we would have built a one-hot encoding of each word that is present in the dataset—a rather tedious process. Thankfully, torchtext will do this for us, and will also allow a max_size parameter to be passed in to limit the vocabu‐ lary to the most common words. This is normally done to prevent the construction of a huge, memory-hungry model. We don’t want our GPUs too overwhelmed, after all. \n",
        "\n",
        "Let’s limit the vocabulary to a maximum of 5000 words in our training set:\n"
      ]
    },
    {
      "cell_type": "code",
      "metadata": {
        "id": "mx955u93SGeY"
      },
      "source": [
        "Tweet.build_vocab(train)\n",
        "Label.build_vocab(train)"
      ],
      "execution_count": null,
      "outputs": []
    },
    {
      "cell_type": "markdown",
      "metadata": {
        "id": "xvyEeEjXTGhX"
      },
      "source": [
        "By default, torchtext will add two more special tokens, <unk> for unknown words and <pad>, a padding token that will be used to pad all our text to roughly the same size to help with efficient batching on the GPU."
      ]
    },
    {
      "cell_type": "code",
      "metadata": {
        "id": "rA3tIESdcJdN",
        "colab": {
          "base_uri": "https://localhost:8080/"
        },
        "outputId": "8751b5bf-b3de-4979-ca91-230ebf1761ed"
      },
      "source": [
        "print('Size of input vocab : ', len(Tweet.vocab))\n",
        "print('Size of label vocab : ', len(Label.vocab))\n",
        "print('Top 10 words appreared repeatedly :', list(Tweet.vocab.freqs.most_common(10)))\n",
        "print('Labels : ', Label.vocab.stoi)"
      ],
      "execution_count": null,
      "outputs": [
        {
          "output_type": "stream",
          "text": [
            "Size of input vocab :  5097\n",
            "Size of label vocab :  3\n",
            "Top 10 words appreared repeatedly : [('Obama', 2645), (':', 1964), ('.', 1914), ('#', 1903), (',', 1501), ('\"', 1357), ('the', 1295), ('RT', 1283), ('?', 997), ('to', 989)]\n",
            "Labels :  defaultdict(<function _default_unk_index at 0x7f965b221ea0>, {0: 0, 1: 1, 2: 2})\n"
          ],
          "name": "stdout"
        }
      ]
    },
    {
      "cell_type": "markdown",
      "metadata": {
        "id": "rwjD2-ebTeUX"
      },
      "source": [
        "**Lots of stopwords!!**"
      ]
    },
    {
      "cell_type": "markdown",
      "metadata": {
        "id": "sLWW221gTpNs"
      },
      "source": [
        "Now we need to create a data loader to feed into our training loop. Torchtext provides the BucketIterator method that will produce what it calls a Batch, which is almost, but not quite, like the data loader we used on images."
      ]
    },
    {
      "cell_type": "markdown",
      "metadata": {
        "id": "EQqMhMoDUDmn"
      },
      "source": [
        "But at first declare the device we are using."
      ]
    },
    {
      "cell_type": "code",
      "metadata": {
        "id": "Zfo2QhGJUK4l"
      },
      "source": [
        "device = torch.device(\"cuda\" if torch.cuda.is_available() else \"cpu\")"
      ],
      "execution_count": null,
      "outputs": []
    },
    {
      "cell_type": "code",
      "metadata": {
        "id": "zK2ORoqdTNsM"
      },
      "source": [
        "train_iterator, valid_iterator = data.BucketIterator.splits((train, valid), batch_size = 32, \n",
        "                                                            sort_key = lambda x: len(x.tweets),\n",
        "                                                            sort_within_batch=True, device = device)"
      ],
      "execution_count": null,
      "outputs": []
    },
    {
      "cell_type": "markdown",
      "metadata": {
        "id": "Gg7gTFQO4fby"
      },
      "source": [
        "Save the vocabulary for later use"
      ]
    },
    {
      "cell_type": "code",
      "metadata": {
        "id": "niE9Cc6-2bD_"
      },
      "source": [
        "import os, pickle\n",
        "with open('tokenizer.pkl', 'wb') as tokens: \n",
        "    pickle.dump(Tweet.vocab.stoi, tokens)"
      ],
      "execution_count": null,
      "outputs": []
    },
    {
      "cell_type": "markdown",
      "metadata": {
        "id": "1AbsQwqkVyAy"
      },
      "source": [
        "## Defining Our Model"
      ]
    },
    {
      "cell_type": "markdown",
      "metadata": {
        "id": "E4PED4HJWH4t"
      },
      "source": [
        "We use the Embedding and LSTM modules in PyTorch to build a simple model for classifying tweets.\n",
        "\n",
        "In this model we create three layers. \n",
        "1. First, the words in our tweets are pushed into an Embedding layer, which we have established as a 300-dimensional vector embedding. \n",
        "2. That’s then fed into a 2 stacked-LSTMs with 100 hidden features (again, we’re compressing down from the 300-dimensional input like we did with images). We are using 2 LSTMs for using the dropout.\n",
        "3. Finally, the output of the LSTM (the final hidden state after processing the incoming tweet) is pushed through a standard fully connected layer with three outputs to correspond to our three possible classes (negative, positive, or neutral)."
      ]
    },
    {
      "cell_type": "code",
      "metadata": {
        "id": "43pVRccMT0bT"
      },
      "source": [
        "import torch.nn as nn\n",
        "import torch.nn.functional as F\n",
        "\n",
        "class classifier(nn.Module):\n",
        "    \n",
        "    # Define all the layers used in model\n",
        "    def __init__(self, vocab_size, embedding_dim, hidden_dim, output_dim, n_layers, dropout):\n",
        "        \n",
        "        super().__init__()          \n",
        "        \n",
        "        # Embedding layer\n",
        "        self.embedding = nn.Embedding(vocab_size, embedding_dim)\n",
        "        \n",
        "        # LSTM layer\n",
        "        self.encoder = nn.LSTM(embedding_dim, \n",
        "                           hidden_dim, \n",
        "                           num_layers=n_layers, \n",
        "                           dropout=dropout,\n",
        "                           batch_first=True)\n",
        "        # try using nn.GRU or nn.RNN here and compare their performances\n",
        "        # try bidirectional and compare their performances\n",
        "        \n",
        "        # Dense layer\n",
        "        self.fc = nn.Linear(hidden_dim, output_dim)\n",
        "        \n",
        "    def forward(self, text, text_lengths):\n",
        "        \n",
        "        # text = [batch size, sent_length]\n",
        "        embedded = self.embedding(text)\n",
        "        # embedded = [batch size, sent_len, emb dim]\n",
        "      \n",
        "        # packed sequence\n",
        "        packed_embedded = nn.utils.rnn.pack_padded_sequence(embedded, text_lengths.cpu(), batch_first=True)\n",
        "        \n",
        "        packed_output, (hidden, cell) = self.encoder(packed_embedded)\n",
        "        #hidden = [batch size, num layers * num directions,hid dim]\n",
        "        #cell = [batch size, num layers * num directions,hid dim]\n",
        "    \n",
        "        # Hidden = [batch size, hid dim * num directions]\n",
        "        dense_outputs = self.fc(hidden)   \n",
        "        \n",
        "        # Final activation function softmax\n",
        "        output = F.softmax(dense_outputs[0], dim=1)\n",
        "            \n",
        "        return output"
      ],
      "execution_count": null,
      "outputs": []
    },
    {
      "cell_type": "code",
      "metadata": {
        "id": "rwBoGE_X_Fl8"
      },
      "source": [
        "# Define hyperparameters\n",
        "size_of_vocab = len(Tweet.vocab)\n",
        "embedding_dim = 300\n",
        "num_hidden_nodes = 100\n",
        "num_output_nodes = 3\n",
        "num_layers = 2\n",
        "dropout = 0.2\n",
        "\n",
        "# Instantiate the model\n",
        "model = classifier(size_of_vocab, embedding_dim, num_hidden_nodes, num_output_nodes, num_layers, dropout = dropout)"
      ],
      "execution_count": null,
      "outputs": []
    },
    {
      "cell_type": "code",
      "metadata": {
        "id": "O-pOMqzJ3eTv",
        "colab": {
          "base_uri": "https://localhost:8080/"
        },
        "outputId": "f61e22b4-0747-4e81-87c6-a6f30c5ea20f"
      },
      "source": [
        "print(model)\n",
        "\n",
        "#No. of trianable parameters\n",
        "def count_parameters(model):\n",
        "    return sum(p.numel() for p in model.parameters() if p.requires_grad)\n",
        "    \n",
        "print(f'The model has {count_parameters(model):,} trainable parameters')"
      ],
      "execution_count": null,
      "outputs": [
        {
          "output_type": "stream",
          "text": [
            "classifier(\n",
            "  (embedding): Embedding(5097, 300)\n",
            "  (encoder): LSTM(300, 100, num_layers=2, batch_first=True, dropout=0.2)\n",
            "  (fc): Linear(in_features=100, out_features=3, bias=True)\n",
            ")\n",
            "The model has 1,771,003 trainable parameters\n"
          ],
          "name": "stdout"
        }
      ]
    },
    {
      "cell_type": "markdown",
      "metadata": {
        "id": "eXajorf5Xz7t"
      },
      "source": [
        "## Model Training and Evaluation"
      ]
    },
    {
      "cell_type": "markdown",
      "metadata": {
        "id": "PrE9RpMtZ1Vs"
      },
      "source": [
        "First define the optimizer and loss functions"
      ]
    },
    {
      "cell_type": "code",
      "metadata": {
        "id": "-u86JWdlXvu5"
      },
      "source": [
        "import torch.optim as optim\n",
        "\n",
        "# define optimizer and loss\n",
        "optimizer = optim.Adam(model.parameters(), lr=2e-4)\n",
        "criterion = nn.CrossEntropyLoss()\n",
        "\n",
        "# define metric\n",
        "def binary_accuracy(preds, y):\n",
        "    #round predictions to the closest integer\n",
        "    _, predictions = torch.max(preds, 1)\n",
        "    \n",
        "    correct = (predictions == y).float() \n",
        "    acc = correct.sum() / len(correct)\n",
        "    return acc\n",
        "    \n",
        "# push to cuda if available\n",
        "model = model.to(device)\n",
        "criterion = criterion.to(device)"
      ],
      "execution_count": null,
      "outputs": []
    },
    {
      "cell_type": "markdown",
      "metadata": {
        "id": "3VCJtNb3Zt8w"
      },
      "source": [
        "The main thing to be aware of in this new training loop is that we have to reference `batch.tweets` and `batch.labels` to get the particular fields we’re interested in; they don’t fall out quite as nicely from the enumerator as they do in torchvision."
      ]
    },
    {
      "cell_type": "markdown",
      "metadata": {
        "id": "2WjEPLKsAiS_"
      },
      "source": [
        "**Training Loop**"
      ]
    },
    {
      "cell_type": "code",
      "metadata": {
        "id": "HDWNnGK3Y5oJ"
      },
      "source": [
        "def train(model, iterator, optimizer, criterion):\n",
        "    \n",
        "    # initialize every epoch \n",
        "    epoch_loss = 0\n",
        "    epoch_acc = 0\n",
        "    \n",
        "    # set the model in training phase\n",
        "    model.train()  \n",
        "    \n",
        "    for batch in iterator:\n",
        "        \n",
        "        # resets the gradients after every batch\n",
        "        optimizer.zero_grad()   \n",
        "        \n",
        "        # retrieve text and no. of words\n",
        "        tweet, tweet_lengths = batch.tweets   \n",
        "        \n",
        "        # convert to 1D tensor\n",
        "        predictions = model(tweet, tweet_lengths).squeeze()  \n",
        "        \n",
        "        # compute the loss\n",
        "        loss = criterion(predictions, batch.labels)        \n",
        "        \n",
        "        # compute the binary accuracy\n",
        "        acc = binary_accuracy(predictions, batch.labels)   \n",
        "        \n",
        "        # backpropage the loss and compute the gradients\n",
        "        loss.backward()       \n",
        "        \n",
        "        # update the weights\n",
        "        optimizer.step()      \n",
        "        \n",
        "        # loss and accuracy\n",
        "        epoch_loss += loss.item()  \n",
        "        epoch_acc += acc.item()    \n",
        "        \n",
        "    return epoch_loss / len(iterator), epoch_acc / len(iterator)"
      ],
      "execution_count": null,
      "outputs": []
    },
    {
      "cell_type": "markdown",
      "metadata": {
        "id": "CZcHhkkvAsCt"
      },
      "source": [
        "**Evaluation Loop**"
      ]
    },
    {
      "cell_type": "code",
      "metadata": {
        "id": "zHEe-zSVAriL"
      },
      "source": [
        "def evaluate(model, iterator, criterion):\n",
        "    \n",
        "    # initialize every epoch\n",
        "    epoch_loss = 0\n",
        "    epoch_acc = 0\n",
        "\n",
        "    # deactivating dropout layers\n",
        "    model.eval()\n",
        "    \n",
        "    # deactivates autograd\n",
        "    with torch.no_grad():\n",
        "    \n",
        "        for batch in iterator:\n",
        "        \n",
        "            # retrieve text and no. of words\n",
        "            tweet, tweet_lengths = batch.tweets\n",
        "            \n",
        "            # convert to 1d tensor\n",
        "            predictions = model(tweet, tweet_lengths).squeeze()\n",
        "            \n",
        "            # compute loss and accuracy\n",
        "            loss = criterion(predictions, batch.labels)\n",
        "            acc = binary_accuracy(predictions, batch.labels)\n",
        "            \n",
        "            # keep track of loss and accuracy\n",
        "            epoch_loss += loss.item()\n",
        "            epoch_acc += acc.item()\n",
        "        \n",
        "    return epoch_loss / len(iterator), epoch_acc / len(iterator)"
      ],
      "execution_count": null,
      "outputs": []
    },
    {
      "cell_type": "markdown",
      "metadata": {
        "id": "L6LJFW7HaJoV"
      },
      "source": [
        "**Let's Train and Evaluate**"
      ]
    },
    {
      "cell_type": "code",
      "metadata": {
        "id": "tq330XlnaEU9",
        "colab": {
          "base_uri": "https://localhost:8080/"
        },
        "outputId": "581d576b-b487-4030-85da-e93650d596ff"
      },
      "source": [
        "N_EPOCHS = 50\n",
        "best_valid_loss = float('inf')\n",
        "\n",
        "for epoch in range(N_EPOCHS):\n",
        "     \n",
        "    # train the model\n",
        "    train_loss, train_acc = train(model, train_iterator, optimizer, criterion)\n",
        "    \n",
        "    # evaluate the model\n",
        "    valid_loss, valid_acc = evaluate(model, valid_iterator, criterion)\n",
        "    \n",
        "    # save the best model\n",
        "    if valid_loss < best_valid_loss:\n",
        "        best_valid_loss = valid_loss\n",
        "        torch.save(model.state_dict(), 'saved_weights.pt')\n",
        "    \n",
        "    print(f'\\tTrain Loss: {train_loss:.3f} | Train Acc: {train_acc*100:.2f}%')\n",
        "    print(f'\\t Val. Loss: {valid_loss:.3f} |  Val. Acc: {valid_acc*100:.2f}% \\n')"
      ],
      "execution_count": null,
      "outputs": [
        {
          "output_type": "stream",
          "text": [
            "\tTrain Loss: 1.001 | Train Acc: 63.36%\n",
            "\t Val. Loss: 0.882 |  Val. Acc: 70.47% \n",
            "\n",
            "\tTrain Loss: 0.866 | Train Acc: 69.71%\n",
            "\t Val. Loss: 0.826 |  Val. Acc: 74.53% \n",
            "\n",
            "\tTrain Loss: 0.816 | Train Acc: 75.63%\n",
            "\t Val. Loss: 0.792 |  Val. Acc: 77.97% \n",
            "\n",
            "\tTrain Loss: 0.783 | Train Acc: 78.64%\n",
            "\t Val. Loss: 0.770 |  Val. Acc: 79.53% \n",
            "\n",
            "\tTrain Loss: 0.755 | Train Acc: 81.55%\n",
            "\t Val. Loss: 0.747 |  Val. Acc: 82.03% \n",
            "\n",
            "\tTrain Loss: 0.727 | Train Acc: 84.29%\n",
            "\t Val. Loss: 0.754 |  Val. Acc: 81.91% \n",
            "\n",
            "\tTrain Loss: 0.702 | Train Acc: 86.13%\n",
            "\t Val. Loss: 0.710 |  Val. Acc: 85.31% \n",
            "\n",
            "\tTrain Loss: 0.685 | Train Acc: 87.73%\n",
            "\t Val. Loss: 0.699 |  Val. Acc: 86.88% \n",
            "\n",
            "\tTrain Loss: 0.666 | Train Acc: 89.40%\n",
            "\t Val. Loss: 0.705 |  Val. Acc: 86.09% \n",
            "\n",
            "\tTrain Loss: 0.653 | Train Acc: 90.97%\n",
            "\t Val. Loss: 0.681 |  Val. Acc: 87.97% \n",
            "\n",
            "\tTrain Loss: 0.645 | Train Acc: 91.43%\n",
            "\t Val. Loss: 0.677 |  Val. Acc: 88.75% \n",
            "\n",
            "\tTrain Loss: 0.639 | Train Acc: 91.84%\n",
            "\t Val. Loss: 0.679 |  Val. Acc: 87.97% \n",
            "\n",
            "\tTrain Loss: 0.635 | Train Acc: 92.35%\n",
            "\t Val. Loss: 0.669 |  Val. Acc: 88.91% \n",
            "\n",
            "\tTrain Loss: 0.628 | Train Acc: 92.95%\n",
            "\t Val. Loss: 0.665 |  Val. Acc: 89.38% \n",
            "\n",
            "\tTrain Loss: 0.626 | Train Acc: 93.00%\n",
            "\t Val. Loss: 0.663 |  Val. Acc: 89.84% \n",
            "\n",
            "\tTrain Loss: 0.623 | Train Acc: 93.30%\n",
            "\t Val. Loss: 0.663 |  Val. Acc: 90.00% \n",
            "\n",
            "\tTrain Loss: 0.619 | Train Acc: 93.61%\n",
            "\t Val. Loss: 0.659 |  Val. Acc: 90.16% \n",
            "\n",
            "\tTrain Loss: 0.618 | Train Acc: 93.87%\n",
            "\t Val. Loss: 0.662 |  Val. Acc: 89.53% \n",
            "\n",
            "\tTrain Loss: 0.611 | Train Acc: 94.47%\n",
            "\t Val. Loss: 0.655 |  Val. Acc: 90.62% \n",
            "\n",
            "\tTrain Loss: 0.608 | Train Acc: 94.69%\n",
            "\t Val. Loss: 0.654 |  Val. Acc: 90.31% \n",
            "\n",
            "\tTrain Loss: 0.606 | Train Acc: 94.82%\n",
            "\t Val. Loss: 0.656 |  Val. Acc: 90.00% \n",
            "\n",
            "\tTrain Loss: 0.608 | Train Acc: 94.67%\n",
            "\t Val. Loss: 0.654 |  Val. Acc: 90.31% \n",
            "\n",
            "\tTrain Loss: 0.603 | Train Acc: 95.15%\n",
            "\t Val. Loss: 0.670 |  Val. Acc: 87.91% \n",
            "\n",
            "\tTrain Loss: 0.601 | Train Acc: 95.23%\n",
            "\t Val. Loss: 0.650 |  Val. Acc: 90.47% \n",
            "\n",
            "\tTrain Loss: 0.599 | Train Acc: 95.34%\n",
            "\t Val. Loss: 0.649 |  Val. Acc: 90.47% \n",
            "\n",
            "\tTrain Loss: 0.598 | Train Acc: 95.50%\n",
            "\t Val. Loss: 0.647 |  Val. Acc: 90.78% \n",
            "\n",
            "\tTrain Loss: 0.597 | Train Acc: 95.58%\n",
            "\t Val. Loss: 0.652 |  Val. Acc: 89.84% \n",
            "\n",
            "\tTrain Loss: 0.597 | Train Acc: 95.55%\n",
            "\t Val. Loss: 0.650 |  Val. Acc: 90.31% \n",
            "\n",
            "\tTrain Loss: 0.596 | Train Acc: 95.64%\n",
            "\t Val. Loss: 0.648 |  Val. Acc: 90.47% \n",
            "\n",
            "\tTrain Loss: 0.596 | Train Acc: 95.65%\n",
            "\t Val. Loss: 0.649 |  Val. Acc: 90.47% \n",
            "\n",
            "\tTrain Loss: 0.595 | Train Acc: 95.66%\n",
            "\t Val. Loss: 0.644 |  Val. Acc: 91.25% \n",
            "\n",
            "\tTrain Loss: 0.594 | Train Acc: 95.79%\n",
            "\t Val. Loss: 0.646 |  Val. Acc: 90.62% \n",
            "\n",
            "\tTrain Loss: 0.593 | Train Acc: 95.91%\n",
            "\t Val. Loss: 0.640 |  Val. Acc: 91.41% \n",
            "\n",
            "\tTrain Loss: 0.592 | Train Acc: 95.95%\n",
            "\t Val. Loss: 0.641 |  Val. Acc: 90.94% \n",
            "\n",
            "\tTrain Loss: 0.592 | Train Acc: 96.00%\n",
            "\t Val. Loss: 0.643 |  Val. Acc: 90.78% \n",
            "\n",
            "\tTrain Loss: 0.591 | Train Acc: 96.10%\n",
            "\t Val. Loss: 0.642 |  Val. Acc: 91.09% \n",
            "\n",
            "\tTrain Loss: 0.590 | Train Acc: 96.13%\n",
            "\t Val. Loss: 0.646 |  Val. Acc: 90.94% \n",
            "\n",
            "\tTrain Loss: 0.590 | Train Acc: 96.16%\n",
            "\t Val. Loss: 0.638 |  Val. Acc: 91.25% \n",
            "\n",
            "\tTrain Loss: 0.589 | Train Acc: 96.28%\n",
            "\t Val. Loss: 0.645 |  Val. Acc: 90.94% \n",
            "\n",
            "\tTrain Loss: 0.596 | Train Acc: 95.59%\n",
            "\t Val. Loss: 0.640 |  Val. Acc: 91.25% \n",
            "\n",
            "\tTrain Loss: 0.595 | Train Acc: 95.79%\n",
            "\t Val. Loss: 0.635 |  Val. Acc: 92.03% \n",
            "\n",
            "\tTrain Loss: 0.590 | Train Acc: 96.19%\n",
            "\t Val. Loss: 0.637 |  Val. Acc: 91.56% \n",
            "\n",
            "\tTrain Loss: 0.588 | Train Acc: 96.42%\n",
            "\t Val. Loss: 0.636 |  Val. Acc: 91.72% \n",
            "\n",
            "\tTrain Loss: 0.589 | Train Acc: 96.36%\n",
            "\t Val. Loss: 0.638 |  Val. Acc: 91.41% \n",
            "\n",
            "\tTrain Loss: 0.586 | Train Acc: 96.62%\n",
            "\t Val. Loss: 0.636 |  Val. Acc: 91.88% \n",
            "\n",
            "\tTrain Loss: 0.585 | Train Acc: 96.68%\n",
            "\t Val. Loss: 0.651 |  Val. Acc: 90.47% \n",
            "\n",
            "\tTrain Loss: 0.591 | Train Acc: 96.19%\n",
            "\t Val. Loss: 0.645 |  Val. Acc: 90.41% \n",
            "\n",
            "\tTrain Loss: 0.583 | Train Acc: 96.82%\n",
            "\t Val. Loss: 0.637 |  Val. Acc: 91.41% \n",
            "\n",
            "\tTrain Loss: 0.583 | Train Acc: 96.90%\n",
            "\t Val. Loss: 0.642 |  Val. Acc: 91.41% \n",
            "\n",
            "\tTrain Loss: 0.582 | Train Acc: 97.00%\n",
            "\t Val. Loss: 0.640 |  Val. Acc: 91.56% \n",
            "\n"
          ],
          "name": "stdout"
        }
      ]
    },
    {
      "cell_type": "markdown",
      "metadata": {
        "id": "LZgzB0ZkHVTI"
      },
      "source": [
        "## Model Testing"
      ]
    },
    {
      "cell_type": "code",
      "metadata": {
        "id": "aZZfnWo0abRx"
      },
      "source": [
        "#load weights and tokenizer\n",
        "\n",
        "path='./saved_weights.pt'\n",
        "model.load_state_dict(torch.load(path));\n",
        "model.eval();\n",
        "tokenizer_file = open('./tokenizer.pkl', 'rb')\n",
        "tokenizer = pickle.load(tokenizer_file)\n",
        "\n",
        "#inference \n",
        "\n",
        "\n",
        "def classify_tweet(tweet):\n",
        "    \n",
        "    categories = {0: \"Negative\", 1:\"Positive\", 2:\"Neutral\"}\n",
        "    \n",
        "    # tokenize the tweet \n",
        "    tokenized = [tok.text for tok in nlp.tokenizer(tweet)] \n",
        "    # convert to integer sequence using predefined tokenizer dictionary\n",
        "    indexed = [tokenizer[t] for t in tokenized]        \n",
        "    # compute no. of words        \n",
        "    length = [len(indexed)]\n",
        "    # convert to tensor                                    \n",
        "    tensor = torch.LongTensor(indexed).to(device)   \n",
        "    # reshape in form of batch, no. of words           \n",
        "    tensor = tensor.unsqueeze(1).T  \n",
        "    # convert to tensor                          \n",
        "    length_tensor = torch.LongTensor(length)\n",
        "    # Get the model prediction                  \n",
        "    prediction = model(tensor, length_tensor)\n",
        "\n",
        "    _, pred = torch.max(prediction, 1) \n",
        "    \n",
        "    return categories[pred.item()]"
      ],
      "execution_count": null,
      "outputs": []
    },
    {
      "cell_type": "code",
      "metadata": {
        "id": "yTkHLEipIlM9",
        "colab": {
          "base_uri": "https://localhost:8080/",
          "height": 35
        },
        "outputId": "c204da2b-562c-4d99-8d54-c934ebfebedd"
      },
      "source": [
        "classify_tweet(\"A valid explanation for why Trump won't let women on the golf course.\")"
      ],
      "execution_count": null,
      "outputs": [
        {
          "output_type": "execute_result",
          "data": {
            "application/vnd.google.colaboratory.intrinsic+json": {
              "type": "string"
            },
            "text/plain": [
              "'Negative'"
            ]
          },
          "metadata": {
            "tags": []
          },
          "execution_count": 40
        }
      ]
    },
    {
      "cell_type": "markdown",
      "metadata": {
        "id": "WVjCuKK_LVEF"
      },
      "source": [
        "## Discussion on Data Augmentation Techniques \n",
        "\n",
        "You might wonder exactly how you can augment text data. After all, you can’t really flip it horizontally as you can an image! :D \n",
        "\n",
        "In contrast to data augmentation in images, augmentation techniques on data is very specific to final product you are building. As its general usage on any type of textual data doesn't provides a significant performance boost, that's why unlike torchvision, torchtext doesn’t offer a augmentation pipeline. Due to powerful models as transformers, augmentation tecnhiques are not so preferred now-a-days. But its better to know about some techniques with text that will provide your model with a little more information for training. \n",
        "\n",
        "### Synonym Replacement\n",
        "\n",
        "First, you could replace words in the sentence with synonyms, like so:\n",
        "\n",
        "    The dog slept on the mat\n",
        "\n",
        "could become\n",
        "\n",
        "    The dog slept on the rug\n",
        "\n",
        "Aside from the dog's insistence that a rug is much softer than a mat, the meaning of the sentence hasn’t changed. But mat and rug will be mapped to different indices in the vocabulary, so the model will learn that the two sentences map to the same label, and hopefully that there’s a connection between those two words, as everything else in the sentences is the same."
      ]
    },
    {
      "cell_type": "markdown",
      "metadata": {
        "id": "T_uEfWJpL6Nq"
      },
      "source": [
        "### Random Insertion\n",
        "A random insertion technique looks at a sentence and then randomly inserts synonyms of existing non-stopwords into the sentence n times. Assuming you have a way of getting a synonym of a word and a way of eliminating stopwords (common words such as and, it, the, etc.), shown, but not implemented, in this function via get_synonyms() and get_stopwords(), an implementation of this would be as follows:\n"
      ]
    },
    {
      "cell_type": "code",
      "metadata": {
        "id": "7Alm5D7WIvAC"
      },
      "source": [
        "def random_insertion(sentence, n): \n",
        "    words = remove_stopwords(sentence) \n",
        "    for _ in range(n):\n",
        "        new_synonym = get_synonyms(random.choice(words))\n",
        "        sentence.insert(randrange(len(sentence)+1), new_synonym) \n",
        "    return sentence"
      ],
      "execution_count": null,
      "outputs": []
    }
  ]
}