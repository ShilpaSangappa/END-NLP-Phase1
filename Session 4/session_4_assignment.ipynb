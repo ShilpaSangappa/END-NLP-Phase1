{
  "nbformat": 4,
  "nbformat_minor": 0,
  "metadata": {
    "accelerator": "GPU",
    "colab": {
      "name": "session 4 - assignment.ipynb",
      "provenance": [],
      "mount_file_id": "1Kz0YUNYkz0P5e_gLkWFCmPrcec_N-yfs",
      "authorship_tag": "ABX9TyOjDncsquG9R3+lkD1nbFNh",
      "include_colab_link": true
    },
    "kernelspec": {
      "display_name": "Python 3",
      "name": "python3"
    }
  },
  "cells": [
    {
      "cell_type": "markdown",
      "metadata": {
        "id": "view-in-github",
        "colab_type": "text"
      },
      "source": [
        "<a href=\"https://colab.research.google.com/github/ShilpaSangappa/END-NLP-Phase1/blob/main/session_4_assignment.ipynb\" target=\"_parent\"><img src=\"https://colab.research.google.com/assets/colab-badge.svg\" alt=\"Open In Colab\"/></a>"
      ]
    },
    {
      "cell_type": "code",
      "metadata": {
        "id": "wWD08kqeznZA"
      },
      "source": [
        "import torch\n",
        "\n",
        "from torchtext import data\n",
        "from torchtext import datasets"
      ],
      "execution_count": 2,
      "outputs": []
    },
    {
      "cell_type": "code",
      "metadata": {
        "id": "cMbfOhLD0A3X"
      },
      "source": [
        "SEED = 1234\n",
        "torch.manual_seed(SEED)\n",
        "torch.backends.cudnn.deterministic = True\n",
        "\n",
        "TEXT = data.Field(tokenize='spacy', include_lengths=True)\n",
        "LABEL = data.LabelField(dtype = torch.float)"
      ],
      "execution_count": 3,
      "outputs": []
    },
    {
      "cell_type": "code",
      "metadata": {
        "colab": {
          "base_uri": "https://localhost:8080/"
        },
        "id": "cA7prXZK2GNM",
        "outputId": "57415064-a151-4423-d469-69bdd1ab7cfe"
      },
      "source": [
        "train_data, test_data = datasets.IMDB.splits(TEXT, LABEL)\n",
        "import random\n",
        "train_data, valid_data = train_data.split(random_state = random.seed(SEED))"
      ],
      "execution_count": 4,
      "outputs": [
        {
          "output_type": "stream",
          "text": [
            "downloading aclImdb_v1.tar.gz\n"
          ],
          "name": "stdout"
        },
        {
          "output_type": "stream",
          "text": [
            "aclImdb_v1.tar.gz: 100%|██████████| 84.1M/84.1M [00:06<00:00, 12.3MB/s]\n"
          ],
          "name": "stderr"
        }
      ]
    },
    {
      "cell_type": "code",
      "metadata": {
        "id": "XVQfnVKdfJwB"
      },
      "source": [
        "for i in range(len(train_data)):\n",
        "  train_data.examples[i].text.reverse()"
      ],
      "execution_count": 5,
      "outputs": []
    },
    {
      "cell_type": "code",
      "metadata": {
        "id": "k4GxQk1MKA0k"
      },
      "source": [
        "for i in range(len(test_data)):\n",
        "  test_data.examples[i].text.reverse()"
      ],
      "execution_count": 26,
      "outputs": []
    },
    {
      "cell_type": "code",
      "metadata": {
        "colab": {
          "base_uri": "https://localhost:8080/"
        },
        "id": "fR5UJxYi3DUv",
        "outputId": "3dd47d1a-1acf-44b6-9e7f-7d2a48efc3b5"
      },
      "source": [
        "MAX_VOCAB_SIZE = 25_000\n",
        "\n",
        "TEXT.build_vocab(train_data, max_size = MAX_VOCAB_SIZE, vectors = \"glove.6B.100d\", unk_init = torch.Tensor.normal_)\n",
        "LABEL.build_vocab(train_data)"
      ],
      "execution_count": 6,
      "outputs": [
        {
          "output_type": "stream",
          "text": [
            ".vector_cache/glove.6B.zip: 862MB [06:30, 2.21MB/s]                           \n",
            "100%|█████████▉| 399207/400000 [00:23<00:00, 17056.06it/s]"
          ],
          "name": "stderr"
        }
      ]
    },
    {
      "cell_type": "code",
      "metadata": {
        "id": "sIhO366bBJky"
      },
      "source": [
        "BATCH_SIZE = 64\n",
        "device = torch.device('cuda' if torch.cuda.is_available() else 'cpu')\n",
        "\n",
        "train_iterator, valid_iterator, test_iterator = data.BucketIterator.splits((train_data, valid_data, test_data), batch_size = BATCH_SIZE, sort_within_batch = True, device = device)\n"
      ],
      "execution_count": 27,
      "outputs": []
    },
    {
      "cell_type": "code",
      "metadata": {
        "id": "h7ERUIztA-Li"
      },
      "source": [
        "import torch.nn as nn\n",
        "\n",
        "class RNN(nn.Module):\n",
        "  def __init__(self, vocab_size, embedding_dim, hidden_dim, output_dim, n_layers, bidirectional, dropout, pad_idx):\n",
        "    super().__init__()\n",
        "    self.embedding = nn.Embedding(vocab_size, embedding_dim, padding_idx = pad_idx)\n",
        "    self.rnn = nn.LSTM(embedding_dim, hidden_dim, num_layers = n_layers, bidirectional=bidirectional, dropout=dropout)\n",
        "    self.fc = nn.Linear(hidden_dim*2, output_dim)\n",
        "    self.dropout = nn.Dropout(dropout)\n",
        "  \n",
        "  def forward(self, text, text_lengths):\n",
        "    embedded = self.dropout(self.embedding(text))\n",
        "    packed_embedded = nn.utils.rnn.pack_padded_sequence(embedded, text_lengths)\n",
        "    packed_output, (hidden, cell) = self.rnn(packed_embedded)\n",
        "    output, output_lengths = nn.utils.rnn.pad_packed_sequence(packed_output)\n",
        "\n",
        "    hidden = self.dropout(torch.cat((hidden[-2,:,:], hidden[-1,:,:]), dim=1))\n",
        "\n",
        "    return self.fc(hidden)\n",
        "  \n"
      ],
      "execution_count": 9,
      "outputs": []
    },
    {
      "cell_type": "code",
      "metadata": {
        "id": "p8bpPAIrLEv2"
      },
      "source": [
        "INPUT_DIM = len(TEXT.vocab)\n",
        "EMBEDDING_DIM = 100\n",
        "HIDDEN_DIM = 256\n",
        "OUTPUT_DIM = 1\n",
        "N_LAYERS = 3\n",
        "BIDIRECTIONAL = False\n",
        "DROPOUT = 0.2\n",
        "\n",
        "PAD_IDX = TEXT.vocab.stoi[TEXT.pad_token]\n",
        "model = RNN(INPUT_DIM, EMBEDDING_DIM, HIDDEN_DIM, OUTPUT_DIM, N_LAYERS, BIDIRECTIONAL, DROPOUT, PAD_IDX)"
      ],
      "execution_count": 10,
      "outputs": []
    },
    {
      "cell_type": "code",
      "metadata": {
        "colab": {
          "base_uri": "https://localhost:8080/"
        },
        "id": "oZO96w8oQOOE",
        "outputId": "9c57698b-a94d-4df7-d47c-41784a2ae8ce"
      },
      "source": [
        "def count_parameters(model):\n",
        "  return sum(p.numel() for p in model.parameters() if p.requires_grad)\n",
        "\n",
        "print(f'The model has {count_parameters(model):,} trainable parameters')  "
      ],
      "execution_count": 11,
      "outputs": [
        {
          "output_type": "stream",
          "text": [
            "The model has 3,919,977 trainable parameters\n"
          ],
          "name": "stdout"
        }
      ]
    },
    {
      "cell_type": "code",
      "metadata": {
        "colab": {
          "base_uri": "https://localhost:8080/"
        },
        "id": "xo4f41rOQQ1v",
        "outputId": "26deafc8-e171-48d7-a58c-12d7753a7f28"
      },
      "source": [
        "pretrained_embeddings = TEXT.vocab.vectors\n",
        "\n",
        "print(pretrained_embeddings.shape)"
      ],
      "execution_count": 12,
      "outputs": [
        {
          "output_type": "stream",
          "text": [
            "torch.Size([25002, 100])\n"
          ],
          "name": "stdout"
        }
      ]
    },
    {
      "cell_type": "code",
      "metadata": {
        "colab": {
          "base_uri": "https://localhost:8080/"
        },
        "id": "EtQ4cw8gSYA-",
        "outputId": "68033d18-02f6-4074-93d6-9c8a4ea0eda8"
      },
      "source": [
        "model.embedding.weight.data.copy_(pretrained_embeddings)"
      ],
      "execution_count": 13,
      "outputs": [
        {
          "output_type": "execute_result",
          "data": {
            "text/plain": [
              "tensor([[-0.1117, -0.4966,  0.1631,  ...,  1.2647, -0.2753, -0.1325],\n",
              "        [-0.8555, -0.7208,  1.3755,  ...,  0.0825, -1.1314,  0.3997],\n",
              "        [-0.0382, -0.2449,  0.7281,  ..., -0.1459,  0.8278,  0.2706],\n",
              "        ...,\n",
              "        [-0.3970,  0.4024,  1.0612,  ..., -0.0136, -0.3363,  0.6442],\n",
              "        [-0.5197,  1.0395,  0.2092,  ..., -0.8857, -0.2294,  0.1244],\n",
              "        [ 0.0057, -0.0707, -0.0804,  ..., -0.3292, -0.0130,  0.0716]])"
            ]
          },
          "metadata": {
            "tags": []
          },
          "execution_count": 13
        }
      ]
    },
    {
      "cell_type": "code",
      "metadata": {
        "colab": {
          "base_uri": "https://localhost:8080/"
        },
        "id": "EDgP2EK4S3qz",
        "outputId": "a63ce794-6a23-4ec6-d3b7-e53eeae75140"
      },
      "source": [
        "UNK_IDX = TEXT.vocab.stoi[TEXT.unk_token]\n",
        "model.embedding.weight.data[UNK_IDX] = torch.zeros(EMBEDDING_DIM)\n",
        "\n",
        "print(model.embedding.weight.data)"
      ],
      "execution_count": 14,
      "outputs": [
        {
          "output_type": "stream",
          "text": [
            "tensor([[ 0.0000,  0.0000,  0.0000,  ...,  0.0000,  0.0000,  0.0000],\n",
            "        [-0.8555, -0.7208,  1.3755,  ...,  0.0825, -1.1314,  0.3997],\n",
            "        [-0.0382, -0.2449,  0.7281,  ..., -0.1459,  0.8278,  0.2706],\n",
            "        ...,\n",
            "        [-0.3970,  0.4024,  1.0612,  ..., -0.0136, -0.3363,  0.6442],\n",
            "        [-0.5197,  1.0395,  0.2092,  ..., -0.8857, -0.2294,  0.1244],\n",
            "        [ 0.0057, -0.0707, -0.0804,  ..., -0.3292, -0.0130,  0.0716]])\n"
          ],
          "name": "stdout"
        }
      ]
    },
    {
      "cell_type": "code",
      "metadata": {
        "id": "KVjIQxUMTj1d"
      },
      "source": [
        "import torch.optim as optim\n",
        "\n",
        "optimizer = optim.Adam(model.parameters())"
      ],
      "execution_count": 15,
      "outputs": []
    },
    {
      "cell_type": "code",
      "metadata": {
        "id": "3WB1iIgVT0iD"
      },
      "source": [
        "criterion = nn.BCEWithLogitsLoss()\n",
        "\n",
        "model = model.to(device)\n",
        "criterion = criterion.to(device)"
      ],
      "execution_count": 16,
      "outputs": []
    },
    {
      "cell_type": "code",
      "metadata": {
        "id": "qvJmkUNHUArL"
      },
      "source": [
        "def binary_accuracy(preds, y):\n",
        "  rounded_preds = torch.round(torch.sigmoid(preds))\n",
        "  correct = (rounded_preds == y).float()\n",
        "  acc = correct.sum() / len(correct)\n",
        "  return acc"
      ],
      "execution_count": 17,
      "outputs": []
    },
    {
      "cell_type": "code",
      "metadata": {
        "id": "1Zwzoz5HUD68"
      },
      "source": [
        "def train(model, iterator, optimizer, criterion):\n",
        "  epoch_loss = 0\n",
        "  epoch_acc = 0\n",
        "\n",
        "  model.train()\n",
        "\n",
        "  for batch in iterator:\n",
        "    optimizer.zero_grad()\n",
        "    text, text_lengths = batch.text\n",
        "    predictions = model(text, text_lengths.cpu()).squeeze(1)\n",
        "    loss = criterion(predictions, batch.label)\n",
        "    acc = binary_accuracy(predictions, batch.label)\n",
        "    loss.backward()\n",
        "    optimizer.step()\n",
        "\n",
        "    epoch_loss += loss.item()\n",
        "    epoch_acc += acc.item()\n",
        "  \n",
        "  return epoch_loss / len(iterator), epoch_acc/len(iterator)"
      ],
      "execution_count": 18,
      "outputs": []
    },
    {
      "cell_type": "code",
      "metadata": {
        "id": "f3TXwGTDVhxh"
      },
      "source": [
        "def evaluate(model, iterator, criterion):\n",
        "  epoch_loss = 0\n",
        "  epoch_acc = 0\n",
        "\n",
        "  model.eval()\n",
        "\n",
        "  with torch.no_grad():\n",
        "    for batch in iterator:\n",
        "      text, text_lengths = batch.text\n",
        "      predictions = model(text, text_lengths.cpu()).squeeze(1)\n",
        "      loss = criterion(predictions, batch.label)\n",
        "      acc = binary_accuracy(predictions, batch.label)\n",
        "\n",
        "      epoch_loss += loss.item()\n",
        "      epoch_acc += acc.item()\n",
        "  return epoch_loss / len(iterator), epoch_acc/len(iterator)"
      ],
      "execution_count": 19,
      "outputs": []
    },
    {
      "cell_type": "code",
      "metadata": {
        "id": "sWrOtGfoXBIO"
      },
      "source": [
        "import time\n",
        "\n",
        "def epoch_time(start_time, end_time):\n",
        "  elapsed_time = end_time - start_time\n",
        "  elapsed_mins = int(elapsed_time / 60)\n",
        "  elapsed_secs = int(elapsed_time - (elapsed_mins * 60))\n",
        "  return elapsed_mins, elapsed_secs"
      ],
      "execution_count": 20,
      "outputs": []
    },
    {
      "cell_type": "code",
      "metadata": {
        "colab": {
          "base_uri": "https://localhost:8080/"
        },
        "id": "2sM3xpdEXD7b",
        "outputId": "3bdf9eff-c43e-4e0f-f0f7-368bdd15c269"
      },
      "source": [
        "N_EPOCHS = 35\n",
        "\n",
        "best_valid_loss = float('inf')\n",
        "\n",
        "for epoch in range(N_EPOCHS):\n",
        "  start_time = time.time()\n",
        "\n",
        "  train_loss, train_acc = train(model, train_iterator, optimizer, criterion)\n",
        "  valid_loss, valid_acc = evaluate(model, valid_iterator, criterion)\n",
        "\n",
        "  end_time = time.time()\n",
        "  epoch_mins, epoch_secs = epoch_time(start_time, end_time)\n",
        "\n",
        "  if valid_loss < best_valid_loss:\n",
        "    best_valid_loss = valid_loss\n",
        "    torch.save(model.state_dict(), 'tut2-model-epoch25.pt')\n",
        "  \n",
        "  print(f'Epoch: {epoch+1:02} | Epoch Time: {epoch_mins}m {epoch_secs}s')\n",
        "  print(f'\\tTrain Loss: {train_loss:.3f} | Train Acc: {train_acc*100:.2f}%')\n",
        "  print(f'\\t Val. Loss: {valid_loss:.3f} |  Val. Acc: {valid_acc*100:.2f}%')"
      ],
      "execution_count": 21,
      "outputs": [
        {
          "output_type": "stream",
          "text": [
            "Epoch: 01 | Epoch Time: 1m 18s\n",
            "\tTrain Loss: 0.674 | Train Acc: 57.55%\n",
            "\t Val. Loss: 0.704 |  Val. Acc: 49.97%\n",
            "Epoch: 02 | Epoch Time: 1m 18s\n",
            "\tTrain Loss: 0.646 | Train Acc: 62.30%\n",
            "\t Val. Loss: 0.684 |  Val. Acc: 56.83%\n",
            "Epoch: 03 | Epoch Time: 1m 18s\n",
            "\tTrain Loss: 0.515 | Train Acc: 75.50%\n",
            "\t Val. Loss: 0.490 |  Val. Acc: 77.53%\n",
            "Epoch: 04 | Epoch Time: 1m 17s\n",
            "\tTrain Loss: 0.327 | Train Acc: 86.72%\n",
            "\t Val. Loss: 0.335 |  Val. Acc: 86.32%\n",
            "Epoch: 05 | Epoch Time: 1m 18s\n",
            "\tTrain Loss: 0.261 | Train Acc: 89.93%\n",
            "\t Val. Loss: 0.322 |  Val. Acc: 87.19%\n",
            "Epoch: 06 | Epoch Time: 1m 17s\n",
            "\tTrain Loss: 0.219 | Train Acc: 91.86%\n",
            "\t Val. Loss: 0.336 |  Val. Acc: 87.67%\n",
            "Epoch: 07 | Epoch Time: 1m 17s\n",
            "\tTrain Loss: 0.182 | Train Acc: 93.51%\n",
            "\t Val. Loss: 0.333 |  Val. Acc: 87.80%\n",
            "Epoch: 08 | Epoch Time: 1m 17s\n",
            "\tTrain Loss: 0.138 | Train Acc: 95.38%\n",
            "\t Val. Loss: 0.344 |  Val. Acc: 87.60%\n",
            "Epoch: 09 | Epoch Time: 1m 17s\n",
            "\tTrain Loss: 0.109 | Train Acc: 96.42%\n",
            "\t Val. Loss: 0.354 |  Val. Acc: 86.60%\n",
            "Epoch: 10 | Epoch Time: 1m 17s\n",
            "\tTrain Loss: 0.089 | Train Acc: 97.14%\n",
            "\t Val. Loss: 0.458 |  Val. Acc: 83.51%\n",
            "Epoch: 11 | Epoch Time: 1m 18s\n",
            "\tTrain Loss: 0.078 | Train Acc: 97.68%\n",
            "\t Val. Loss: 0.405 |  Val. Acc: 87.32%\n",
            "Epoch: 12 | Epoch Time: 1m 18s\n",
            "\tTrain Loss: 0.058 | Train Acc: 98.26%\n",
            "\t Val. Loss: 0.472 |  Val. Acc: 87.32%\n",
            "Epoch: 13 | Epoch Time: 1m 18s\n",
            "\tTrain Loss: 0.051 | Train Acc: 98.51%\n",
            "\t Val. Loss: 0.470 |  Val. Acc: 87.22%\n",
            "Epoch: 14 | Epoch Time: 1m 18s\n",
            "\tTrain Loss: 0.047 | Train Acc: 98.52%\n",
            "\t Val. Loss: 0.458 |  Val. Acc: 87.44%\n",
            "Epoch: 15 | Epoch Time: 1m 18s\n",
            "\tTrain Loss: 0.036 | Train Acc: 98.93%\n",
            "\t Val. Loss: 0.469 |  Val. Acc: 87.65%\n",
            "Epoch: 16 | Epoch Time: 1m 18s\n",
            "\tTrain Loss: 0.034 | Train Acc: 99.03%\n",
            "\t Val. Loss: 0.555 |  Val. Acc: 86.61%\n",
            "Epoch: 17 | Epoch Time: 1m 18s\n",
            "\tTrain Loss: 0.029 | Train Acc: 99.18%\n",
            "\t Val. Loss: 0.544 |  Val. Acc: 87.43%\n",
            "Epoch: 18 | Epoch Time: 1m 18s\n",
            "\tTrain Loss: 0.024 | Train Acc: 99.31%\n",
            "\t Val. Loss: 0.568 |  Val. Acc: 85.20%\n",
            "Epoch: 19 | Epoch Time: 1m 18s\n",
            "\tTrain Loss: 0.023 | Train Acc: 99.33%\n",
            "\t Val. Loss: 0.544 |  Val. Acc: 87.36%\n",
            "Epoch: 20 | Epoch Time: 1m 18s\n",
            "\tTrain Loss: 0.020 | Train Acc: 99.42%\n",
            "\t Val. Loss: 0.596 |  Val. Acc: 86.93%\n",
            "Epoch: 21 | Epoch Time: 1m 18s\n",
            "\tTrain Loss: 0.020 | Train Acc: 99.39%\n",
            "\t Val. Loss: 0.510 |  Val. Acc: 86.41%\n",
            "Epoch: 22 | Epoch Time: 1m 18s\n",
            "\tTrain Loss: 0.016 | Train Acc: 99.58%\n",
            "\t Val. Loss: 0.616 |  Val. Acc: 87.16%\n",
            "Epoch: 23 | Epoch Time: 1m 18s\n",
            "\tTrain Loss: 0.013 | Train Acc: 99.65%\n",
            "\t Val. Loss: 0.781 |  Val. Acc: 84.23%\n",
            "Epoch: 24 | Epoch Time: 1m 18s\n",
            "\tTrain Loss: 0.015 | Train Acc: 99.57%\n",
            "\t Val. Loss: 0.682 |  Val. Acc: 87.32%\n",
            "Epoch: 25 | Epoch Time: 1m 18s\n",
            "\tTrain Loss: 0.013 | Train Acc: 99.62%\n",
            "\t Val. Loss: 0.591 |  Val. Acc: 87.11%\n",
            "Epoch: 26 | Epoch Time: 1m 18s\n",
            "\tTrain Loss: 0.011 | Train Acc: 99.66%\n",
            "\t Val. Loss: 0.638 |  Val. Acc: 86.90%\n",
            "Epoch: 27 | Epoch Time: 1m 18s\n",
            "\tTrain Loss: 0.011 | Train Acc: 99.65%\n",
            "\t Val. Loss: 0.673 |  Val. Acc: 86.74%\n",
            "Epoch: 28 | Epoch Time: 1m 18s\n",
            "\tTrain Loss: 0.007 | Train Acc: 99.78%\n",
            "\t Val. Loss: 0.779 |  Val. Acc: 86.90%\n",
            "Epoch: 29 | Epoch Time: 1m 18s\n",
            "\tTrain Loss: 0.008 | Train Acc: 99.79%\n",
            "\t Val. Loss: 0.758 |  Val. Acc: 86.70%\n",
            "Epoch: 30 | Epoch Time: 1m 18s\n",
            "\tTrain Loss: 0.012 | Train Acc: 99.69%\n",
            "\t Val. Loss: 0.802 |  Val. Acc: 86.46%\n",
            "Epoch: 31 | Epoch Time: 1m 18s\n",
            "\tTrain Loss: 0.007 | Train Acc: 99.83%\n",
            "\t Val. Loss: 0.796 |  Val. Acc: 86.92%\n",
            "Epoch: 32 | Epoch Time: 1m 18s\n",
            "\tTrain Loss: 0.009 | Train Acc: 99.78%\n",
            "\t Val. Loss: 0.660 |  Val. Acc: 86.68%\n",
            "Epoch: 33 | Epoch Time: 1m 18s\n",
            "\tTrain Loss: 0.006 | Train Acc: 99.87%\n",
            "\t Val. Loss: 0.719 |  Val. Acc: 87.12%\n",
            "Epoch: 34 | Epoch Time: 1m 18s\n",
            "\tTrain Loss: 0.006 | Train Acc: 99.83%\n",
            "\t Val. Loss: 0.774 |  Val. Acc: 86.89%\n",
            "Epoch: 35 | Epoch Time: 1m 18s\n",
            "\tTrain Loss: 0.009 | Train Acc: 99.74%\n",
            "\t Val. Loss: 0.624 |  Val. Acc: 86.90%\n"
          ],
          "name": "stdout"
        }
      ]
    },
    {
      "cell_type": "code",
      "metadata": {
        "colab": {
          "base_uri": "https://localhost:8080/"
        },
        "id": "wL28xs-kX0XV",
        "outputId": "fd964c63-9302-4d85-8b7a-9594682bd5af"
      },
      "source": [
        "test_loss, test_acc = evaluate(model, test_iterator, criterion)\n",
        "print(f'Test Loss : {test_loss:.3f} | Test Acc: {test_acc*100:.3f}%')"
      ],
      "execution_count": 22,
      "outputs": [
        {
          "output_type": "stream",
          "text": [
            "Test Loss : 0.745 | Test Acc: 84.675%\n"
          ],
          "name": "stdout"
        }
      ]
    },
    {
      "cell_type": "code",
      "metadata": {
        "colab": {
          "base_uri": "https://localhost:8080/"
        },
        "id": "HSxgTEHZY-1W",
        "outputId": "ab992336-f9a2-40b2-cf74-df9732fd03b6"
      },
      "source": [
        "model.load_state_dict(torch.load('tut2-model-epoch25.pt'))\n",
        "test_loss, test_acc = evaluate(model, test_iterator, criterion)\n",
        "print(f'Test Loss : {test_loss:.3f} | Test Acc: {test_acc*100:.3f}%')"
      ],
      "execution_count": 25,
      "outputs": [
        {
          "output_type": "stream",
          "text": [
            "Test Loss : 0.345 | Test Acc: 85.810%\n"
          ],
          "name": "stdout"
        }
      ]
    },
    {
      "cell_type": "code",
      "metadata": {
        "id": "hAeIYNaDPJmt",
        "colab": {
          "base_uri": "https://localhost:8080/"
        },
        "outputId": "1726cb68-130b-40bb-85bc-ff0b57d5e9ab"
      },
      "source": [
        "#After reversing text in 'test_data' as well\n",
        "test_loss, test_acc = evaluate(model, test_iterator, criterion)\n",
        "print(f'Test Loss : {test_loss:.3f} | Test Acc: {test_acc*100:.3f}%')"
      ],
      "execution_count": 28,
      "outputs": [
        {
          "output_type": "stream",
          "text": [
            "Test Loss : 0.331 | Test Acc: 86.537%\n"
          ],
          "name": "stdout"
        }
      ]
    },
    {
      "cell_type": "code",
      "metadata": {
        "id": "d4gESelXPTBt"
      },
      "source": [
        ""
      ],
      "execution_count": 24,
      "outputs": []
    }
  ]
}