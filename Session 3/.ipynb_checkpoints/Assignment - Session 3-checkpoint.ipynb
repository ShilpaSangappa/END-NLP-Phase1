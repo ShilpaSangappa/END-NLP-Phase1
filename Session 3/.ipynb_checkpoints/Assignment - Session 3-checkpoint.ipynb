{
 "cells": [
  {
   "cell_type": "markdown",
   "metadata": {},
   "source": [
    "#### Q1 --  Write a function using only list filter lambda that can tell whether a number is a Fibonacci number or not. You can use a pre-calculated list/dict to store fab numbers till 10000"
   ]
  },
  {
   "cell_type": "code",
   "execution_count": 48,
   "metadata": {},
   "outputs": [
    {
     "data": {
      "text/plain": [
       "[0, 1, 1, 2, 3, 5, 8, 13, 21, 34]"
      ]
     },
     "execution_count": 48,
     "metadata": {},
     "output_type": "execute_result"
    }
   ],
   "source": [
    "def fibonacci_series(till_number):\n",
    "    if(till_number == 0):\n",
    "        return 0\n",
    "    elif(till_number == 1):\n",
    "        return 1\n",
    "    else:\n",
    "        return (fibonacci_series(till_number - 2) + fibonacci_series(till_number - 1))\n",
    "\n",
    "fib_series = []\n",
    "for n in range(0, 10):\n",
    "    fib_series.append(fibonacci_series(n))\n",
    "fib_series    "
   ]
  },
  {
   "cell_type": "code",
   "execution_count": 49,
   "metadata": {},
   "outputs": [
    {
     "name": "stdout",
     "output_type": "stream",
     "text": [
      "Fibonacci numbers in the range 1-25\n"
     ]
    },
    {
     "data": {
      "text/plain": [
       "[0, 1, 2, 3, 5, 8, 13, 21]"
      ]
     },
     "execution_count": 49,
     "metadata": {},
     "output_type": "execute_result"
    }
   ],
   "source": [
    "print(\"Fibonacci numbers in the range 1-25\")\n",
    "list(filter(lambda x: x in fib_series, range(25)))"
   ]
  },
  {
   "cell_type": "code",
   "execution_count": 50,
   "metadata": {},
   "outputs": [
    {
     "name": "stdout",
     "output_type": "stream",
     "text": [
      "Fibonacci numbers not in the range 1-25\n"
     ]
    },
    {
     "data": {
      "text/plain": [
       "[4, 6, 7, 9, 10, 11, 12, 14, 15, 16, 17, 18, 19, 20, 22, 23, 24]"
      ]
     },
     "execution_count": 50,
     "metadata": {},
     "output_type": "execute_result"
    }
   ],
   "source": [
    "print(\"Fibonacci numbers not in the range 1-25\")\n",
    "list(filter(lambda x: x not in fib_series, range(25)))"
   ]
  },
  {
   "cell_type": "markdown",
   "metadata": {},
   "source": [
    "#### Q2 --  Using list comprehension (and zip/lambda/etc if required) write five different expressions that: PTS:100\n",
    "\n",
    "    add 2 iterables a and b such that a is even and b is odd\n",
    "    strips every vowel from a string provided (tsai>>t s)\n",
    "    acts like a ReLU function for a 1D array\n",
    "    acts like a sigmoid function for a 1D array\n",
    "    takes a small character string and shifts all characters by 5 (handle boundary conditions) tsai>>yxfn\n",
    "\n",
    "\n"
   ]
  },
  {
   "cell_type": "code",
   "execution_count": 51,
   "metadata": {},
   "outputs": [
    {
     "name": "stdout",
     "output_type": "stream",
     "text": [
      "-9.989738464355469e-05\n",
      "-8.726119995117188e-05\n",
      "the list:[1, 2, 3, 4, 5, 6, 7, 8]\n",
      "even numbers from the list:[2, 4, 6, 8]\n",
      "odd numbers from the list:[1, 3, 5, 7]\n",
      "sum of the two lists:[3, 7, 11, 15]\n"
     ]
    }
   ],
   "source": [
    "# add 2 iterables a and b such that a is even and b is odd  TODO\n",
    "from time import time\n",
    "evn_nos = [item for item in [1,2,3,4,5,6,7,8] if item %2 == 0]\n",
    "odd_nos = [item for item in [1,2,3,4,5,6,7,8] if item %2 != 0]\n",
    "time1 = time()\n",
    "ans = [item1 + item2 for item1, item2 in zip(evn_nos, odd_nos)]\n",
    "time2 = time()\n",
    "ans = list(map(lambda x, y: x + y, evn_nos, odd_nos))\n",
    "time3 = time()\n",
    "print(time1 - time2)\n",
    "print(time2 - time3)\n",
    "print (\"the list:\" + str([1,2,3,4,5,6,7,8]))\n",
    "print (\"even numbers from the list:\" + str(evn_nos))\n",
    "print (\"odd numbers from the list:\" + str(odd_nos))\n",
    "print (\"sum of the two lists:\" + str(ans))"
   ]
  },
  {
   "cell_type": "code",
   "execution_count": 36,
   "metadata": {},
   "outputs": [
    {
     "name": "stdout",
     "output_type": "stream",
     "text": [
      "string is  ThEschoolofai\n",
      "after stripping vowels, the string is \n"
     ]
    },
    {
     "data": {
      "text/plain": [
       "['T', 'h', 's', 'c', 'h', 'l', 'f']"
      ]
     },
     "execution_count": 36,
     "metadata": {},
     "output_type": "execute_result"
    }
   ],
   "source": [
    "# strips every vowel from a string provided (tsai>>t s)\n",
    "print('string is ', 'ThEschoolofai' )\n",
    "print('after stripping vowels, the string is ')\n",
    "list(filter(lambda c: c.lower() not in['a', 'e', 'i', 'o', 'u'], 'ThEschoolofai'))"
   ]
  },
  {
   "cell_type": "code",
   "execution_count": 26,
   "metadata": {},
   "outputs": [
    {
     "name": "stdout",
     "output_type": "stream",
     "text": [
      "ReLU for array [-1, -2, 0, 1, 2] is\n"
     ]
    },
    {
     "data": {
      "text/plain": [
       "[0, 0, 0, 1, 2]"
      ]
     },
     "execution_count": 26,
     "metadata": {},
     "output_type": "execute_result"
    }
   ],
   "source": [
    "# acts like a ReLU function for a 1D array\n",
    "print('ReLU for array %s is' %str([-1,-2,0,1,2]))\n",
    "[max(0,item) for item in [-1,-2,0,1,2]]"
   ]
  },
  {
   "cell_type": "code",
   "execution_count": 27,
   "metadata": {},
   "outputs": [
    {
     "name": "stdout",
     "output_type": "stream",
     "text": [
      "Sigmoid for array [-1, -2, 0, 1, 2] is\n"
     ]
    },
    {
     "data": {
      "text/plain": [
       "[0.2689414213699951,\n",
       " 0.11920292202211755,\n",
       " 0.5,\n",
       " 0.7310585786300049,\n",
       " 0.8807970779778823]"
      ]
     },
     "execution_count": 27,
     "metadata": {},
     "output_type": "execute_result"
    }
   ],
   "source": [
    "# acts like a sigmoid function for a 1D array\n",
    "import numpy as np\n",
    "print('Sigmoid for array %s is' %str([-1,-2,0,1,2]))\n",
    "[1/(1 + np.exp(-item)) for item in [-1,-2,0,1,2]]"
   ]
  },
  {
   "cell_type": "code",
   "execution_count": 28,
   "metadata": {},
   "outputs": [
    {
     "name": "stdout",
     "output_type": "stream",
     "text": [
      "string tsaxyz after shifting 5 chars is \n"
     ]
    },
    {
     "data": {
      "text/plain": [
       "['y', 'x', 'f', 'c', 'd', 'e']"
      ]
     },
     "execution_count": 28,
     "metadata": {},
     "output_type": "execute_result"
    }
   ],
   "source": [
    "# takes a small character string and shifts all characters by 5 (handle boundary conditions) tsai>>yxfn\n",
    "print('string %s after shifting 5 chars is ' %'tsaxyz')\n",
    "[chr(97 + (4 - (ord('z') - ord(item))))  if ord(item) + 5 > ord('z') else chr(ord(item) + 5) for item in 'tsaxyz']"
   ]
  },
  {
   "cell_type": "markdown",
   "metadata": {},
   "source": [
    "### Q3 - A list comprehension expression that takes a ~200 word paragraph (write your own paragraph to check), and checks whether it has any of the swear words mentioned in https://github.com/RobertJGabriel/Google-profanity-words/blob/master/list.txt PTS:200"
   ]
  },
  {
   "cell_type": "code",
   "execution_count": 29,
   "metadata": {},
   "outputs": [],
   "source": [
    "import requests\n",
    "response = requests.get('https://raw.githubusercontent.com/RobertJGabriel/Google-profanity-words/master/list.txt')\n",
    "swr_words = response.text.split('\\n')"
   ]
  },
  {
   "cell_type": "code",
   "execution_count": 30,
   "metadata": {},
   "outputs": [
    {
     "name": "stdout",
     "output_type": "stream",
     "text": [
      "swear words present:\n"
     ]
    },
    {
     "data": {
      "text/plain": [
       "['4r5e', 'biatch', 'bloody']"
      ]
     },
     "execution_count": 30,
     "metadata": {},
     "output_type": "execute_result"
    }
   ],
   "source": [
    "sent = 'Virat Kohli is an Indian cricketer who currently 4r5e captains the India national team. A right-handed biatch top-order batsman, Kohli is regarded as one of bloody the best batsmen in the world'\n",
    "from nltk.tokenize import word_tokenize\n",
    "print('swear words present:')\n",
    "[word for word in word_tokenize(sent) if word in swr_words]"
   ]
  },
  {
   "cell_type": "markdown",
   "metadata": {},
   "source": [
    "###  Q4 - Using reduce functions: PTS:100\n",
    "\n",
    "    add only even numbers in a list\n",
    "    find the biggest character in a string (printable ascii characters)\n",
    "    adds every 3rd number in a list\n",
    "\n"
   ]
  },
  {
   "cell_type": "code",
   "execution_count": 31,
   "metadata": {},
   "outputs": [
    {
     "name": "stdout",
     "output_type": "stream",
     "text": [
      "the list is [1, 2, 3, 4, 5, 6, 7]\n",
      "even numbers from the list:[2, 4, 6]\n",
      "sum of even numbers\n"
     ]
    },
    {
     "data": {
      "text/plain": [
       "12"
      ]
     },
     "execution_count": 31,
     "metadata": {},
     "output_type": "execute_result"
    }
   ],
   "source": [
    "from functools import reduce\n",
    "# add only even numbers in a list\n",
    "evn_nos = list(filter(lambda x: x % 2 == 0, [1,2,3,4,5,6,7]))\n",
    "print('the list is %s' %str([1,2,3,4,5,6,7]))\n",
    "print (\"even numbers from the list:\" + str(evn_nos))\n",
    "print(\"sum of even numbers\")\n",
    "reduce(lambda a, b: a + b, evn_nos)"
   ]
  },
  {
   "cell_type": "code",
   "execution_count": 32,
   "metadata": {},
   "outputs": [
    {
     "name": "stdout",
     "output_type": "stream",
     "text": [
      "string is: abcdZaga$\n",
      "biggest character is: \n"
     ]
    },
    {
     "data": {
      "text/plain": [
       "'g'"
      ]
     },
     "execution_count": 32,
     "metadata": {},
     "output_type": "execute_result"
    }
   ],
   "source": [
    "# find the biggest character in a string (printable ascii characters)\n",
    "from functools import reduce\n",
    "print('string is: ' + \"abcdZaga$\")\n",
    "print('biggest character is: ')\n",
    "reduce(lambda a, b: max(a, b), list(\"abcdZaga$\"))"
   ]
  },
  {
   "cell_type": "code",
   "execution_count": 60,
   "metadata": {},
   "outputs": [
    {
     "name": "stdout",
     "output_type": "stream",
     "text": [
      "the list is [1, 2, 3, 4, 5, 6, 7, 8, 9, 10, 11, 12, 13, 14, 15]\n",
      "every 3rd element from the list:[3, 6, 9, 12, 15]\n",
      "sum of all 3rd elements\n"
     ]
    },
    {
     "data": {
      "text/plain": [
       "45"
      ]
     },
     "execution_count": 60,
     "metadata": {},
     "output_type": "execute_result"
    }
   ],
   "source": [
    "# adds every 3rd number in a list\n",
    "n = 3\n",
    "lst = [1,2,3,4,5,6,7,8,9,10,11,12,13,14,15]\n",
    "lst_3rd = [1,2,3,4,5,6,7,8,9,10,11,12,13,14,15][(n-1)::n] \n",
    "print('the list is %s' %str(lst))\n",
    "print(\"every 3rd element from the list:\" + str(lst_3rd))\n",
    "print(\"sum of all 3rd elements\")\n",
    "reduce(lambda a, b: a + b, lst_3rd)"
   ]
  },
  {
   "cell_type": "markdown",
   "metadata": {},
   "source": [
    "### Q5 - Using randint, random.choice and list comprehensions, write an expression that generates 15 random KADDAADDDD number plates, where KA is fixed, D stands for a digit, and A stands for Capital alphabets. 10<<DD<<99 & 1000<<DDDD<<9999 PTS:100"
   ]
  },
  {
   "cell_type": "code",
   "execution_count": 66,
   "metadata": {},
   "outputs": [
    {
     "data": {
      "text/plain": [
       "['KA87FI7162',\n",
       " 'KA38AQ7552',\n",
       " 'KA63YO6120',\n",
       " 'KA30QI2123',\n",
       " 'KA13TH9233',\n",
       " 'KA74PD2545',\n",
       " 'KA72HZ8977',\n",
       " 'KA34LU8099',\n",
       " 'KA88CP6646',\n",
       " 'KA40AU7163',\n",
       " 'KA40HP9061',\n",
       " 'KA69FN6863',\n",
       " 'KA67DX2646',\n",
       " 'KA74JD1337',\n",
       " 'KA59LL1229']"
      ]
     },
     "execution_count": 66,
     "metadata": {},
     "output_type": "execute_result"
    }
   ],
   "source": [
    "import random\n",
    "['KA' + str(random.randint(10,99)) + chr(random.randint(65,90)) + \n",
    " chr(random.randint(65,90)) + str(random.randint(1000,9999)) for i in range(15)]"
   ]
  },
  {
   "cell_type": "markdown",
   "metadata": {},
   "source": [
    "### Q6 - Write the above again from scratch where KA can be changed to DL, and 1000/9999 ranges can be provided."
   ]
  },
  {
   "cell_type": "code",
   "execution_count": 69,
   "metadata": {},
   "outputs": [
    {
     "name": "stdout",
     "output_type": "stream",
     "text": [
      "KA or DL?KA\n",
      "Enter DDDD in range 1000-99992000\n",
      "KA92MY2000\n",
      "KA or DL?kk\n",
      "wrong input. Enter KA or DL\n",
      "KA or DL?KK\n",
      "wrong input. Enter KA or DL\n",
      "KA or DL?DL\n",
      "Enter DDDD in range 1000-99991000000\n",
      "wrong input. Enter DDDD in range 1000-9999\n",
      "Enter DDDD in range 1000-99991000\n",
      "DL79IU1000\n",
      "KA or DL?KL\n",
      "wrong input. Enter KA or DL\n",
      "KA or DL?1343\n",
      "wrong input. Enter KA or DL\n",
      "KA or DL?KA\n",
      "Enter DDDD in range 1000-99991000\n",
      "KA75QH1000\n"
     ]
    }
   ],
   "source": [
    "for i in range(15):\n",
    "    while True:\n",
    "        KA_DL = input('KA or DL?')\n",
    "        if KA_DL in ('KA', 'DL'):\n",
    "            break\n",
    "        else:\n",
    "            print('wrong input. Enter KA or DL')\n",
    "            \n",
    "    while True:            \n",
    "        DDDD = int(input('Enter DDDD in range 1000-9999'))\n",
    "        if DDDD in list(range(1000,9999)):\n",
    "            break\n",
    "        else:\n",
    "            print('wrong input. Enter DDDD in range 1000-9999')\n",
    "    \n",
    "    print(KA_DL + str(random.randint(10,99)) + chr(random.randint(65,90)) + \n",
    "         chr(random.randint(65,90)) + str(DDDD))\n",
    "        "
   ]
  },
  {
   "cell_type": "code",
   "execution_count": null,
   "metadata": {},
   "outputs": [],
   "source": []
  }
 ],
 "metadata": {
  "kernelspec": {
   "display_name": "Python 3",
   "language": "python",
   "name": "python3"
  },
  "language_info": {
   "codemirror_mode": {
    "name": "ipython",
    "version": 3
   },
   "file_extension": ".py",
   "mimetype": "text/x-python",
   "name": "python",
   "nbconvert_exporter": "python",
   "pygments_lexer": "ipython3",
   "version": "3.8.5"
  }
 },
 "nbformat": 4,
 "nbformat_minor": 4
}
